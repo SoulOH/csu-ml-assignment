{
 "cells": [
  {
   "cell_type": "markdown",
   "metadata": {},
   "source": [
    "# Regression\n",
    "\n",
    "某城市的电网系统需要升级，以应对日益增长的用电需求。电网系统需要考虑最高温度对城市的峰值用电量的影响。项目负责人需要预测明天城市的峰值用电量，他搜集了以往的数据。现在，负责人提供了他搜集到的数据，并请求你帮他训练出一个模型，这个模型能够很好地预测明天城市的峰值用电量。\n",
    "\n",
    "首先，你导入负责人提供的数据。"
   ]
  },
  {
   "cell_type": "code",
   "execution_count": 1,
   "metadata": {},
   "outputs": [
    {
     "name": "stdout",
     "output_type": "stream",
     "text": [
      "X shape:  (100, 1)\n",
      "y shape:  (100, 1)\n"
     ]
    }
   ],
   "source": [
    "import numpy as np\n",
    "import os\n",
    "\n",
    "data = np.loadtxt(\"data.txt\")\n",
    "# data 数据第一列为人口信息\n",
    "X_data = data[:, 0].reshape(-1,1)\n",
    "# data 数据第三列为城市峰值用电量\n",
    "y_data = data[:, 2].reshape(-1,1)\n",
    "\n",
    "print(\"X shape: \", X_data.shape)\n",
    "print(\"y shape: \", y_data.shape)"
   ]
  },
  {
   "cell_type": "markdown",
   "metadata": {},
   "source": [
    "接着，可视化数据。"
   ]
  },
  {
   "cell_type": "code",
   "execution_count": 2,
   "metadata": {},
   "outputs": [
    {
     "data": {
      "text/plain": [
       "<matplotlib.collections.PathCollection at 0x10d89dc18>"
      ]
     },
     "execution_count": 2,
     "metadata": {},
     "output_type": "execute_result"
    },
    {
     "data": {
      "image/png": "[encoded data removed]",
      "text/plain": [
       "<Figure size 432x288 with 1 Axes>"
      ]
     },
     "metadata": {},
     "output_type": "display_data"
    }
   ],
   "source": [
    "import matplotlib.pyplot as plt\n",
    "from matplotlib.pyplot import savefig\n",
    "%matplotlib inline\n",
    "\n",
    "plt.scatter(X_data, y_data)"
   ]
  },
  {
   "cell_type": "markdown",
   "metadata": {},
   "source": [
    "你决定使用回归算法来训练一个模型，用来预测明天城市的峰值用电量。\n",
    "\n",
    "## Regression 模型\n",
    "\n",
    "设输入的特征——最高温度(F)为$x^{(i)} \\in \\mathbb{R}^{n+1}$，$i=1,\\cdots,m$。m为样本总数，在该例子中为100。n为特征的个数，这里为1。\n",
    "$$\n",
    "x^{(i)} \\in \\mathbb{R}^2 = \\begin{bmatrix} 1 \\\\ \\text{high temperature for day i} \\end{bmatrix}\n",
    "$$\n",
    "\n",
    "设输出为$y^{(i)} \\in \\mathbb{R}$，表示第i天的峰值用电量。\n",
    "\n",
    "参数为$\\theta \\in \\mathbb{R}^{n+1} = \\begin{bmatrix} \\theta_0 \\\\ \\theta_1 \\\\ \\vdots \\\\ \\theta_n \\end{bmatrix}$\n",
    "\n",
    "在该例子中，模型应该为一条直线，假设模型为：\n",
    "$$h_{\\theta}(x) = \\theta^T x = \\theta_0 + \\theta_1 x $$\n",
    "\n",
    "## 损失函数\n",
    "\n",
    "模型的预测结果和实际结果有差距，为了衡量它们之间的差距，或者说使用这个模型产生的损失，我们定义损失函数$l(h_\\theta(x), y)$。回归问题一般使用平方损失：\n",
    "$$\n",
    "l(h_\\theta(x), y) = \\left ( h_\\theta(x) - y \\right )^2\n",
    "$$\n",
    "\n",
    "上述损失函数表示一个样本的损失，训练集的损失使用$J(\\theta)$表示：\n",
    "$$\n",
    "\\begin{aligned}\n",
    "J(\\theta) & = \\frac{1}{2m} \\sum_{i=1}^{m}l(h_\\theta(x), y) \\\\\n",
    "& = \\frac{1}{2m} \\sum_{i=1}^{m} \\left ( h_\\theta(x) - y \\right )^2 \\\\\n",
    "& = \\frac{1}{2m} \\sum_{i=1}^{m} \\left ( \\theta^T x - y \\right )^2\n",
    "\\end{aligned}\n",
    "$$\n",
    "（其中数字2的作用是方便以后的运算）\n",
    "\n",
    "为了使模型的预测效果好，需要最小化训练集上的损失，$\\underset{\\theta}{\\text{minimize}} J(\\theta)$。\n",
    "\n",
    "## 梯度下降法\n",
    "\n",
    "为了得到使得损失函数$J(\\theta)$最小化的$\\theta$，可以使用梯度下降法。\n",
    "\n",
    "损失函数$J(\\theta)$的函数图像如下\n",
    "![损失函数J](images/loss_function_j.png)\n",
    "\n",
    "损失函数$J(\\theta)$关于参数向量$\\theta$中的一个参数比如$\\theta_1$的函数图是\n",
    "![theta-J 函数图](images/theta-J.png)\n",
    "\n",
    "假设一开始$J(\\theta)$的值在紫色点上，为了降低$J(\\theta)$值，需要$\\theta_1$往右变移动，这个方向是$J(\\theta)$在$\\theta_1$上的负梯度。只要$\\theta$不断往负梯度方向移动，$J(\\theta)$一定可以降到最低值。梯度下降法就是使参数$\\theta$不断往负梯度移动，经过有限次迭代(更新$\\theta$值)之后，损失函数$J(\\theta)$达到最低值。\n",
    "\n",
    "梯度下降法的过程：\n",
    "1. 初始化参数向量$\\theta$。\n",
    "2. 开始迭代：\n",
    "  1. 计算损失函数$J(\\theta)$，\n",
    "  2. 计算$\\theta$的梯度，\n",
    "  3. 更新参数$\\theta$。\n",
    "\n",
    "\n",
    "现在，我们开始实现 Regression 学习算法。\n",
    "\n",
    "**任务1：** 首先在X前面加上一列1，表示参数$\\theta_0$的系数，方便运算。\n",
    "提示：使用`np.hstack`把两个矩阵水平合在一起。用1初始化向量或矩阵的函数是`np.ones`。(函数详情使用python的帮助函数`help`，比如`help(np.ones)`，或者百度。)"
   ]
  },
  {
   "cell_type": "code",
   "execution_count": 8,
   "metadata": {},
   "outputs": [
    {
     "name": "stdout",
     "output_type": "stream",
     "text": [
      "X_train shape:  (100, 2)\n",
      "X_train[:5,:] =  [[ 1.   39.44]\n",
      " [ 1.   37.22]\n",
      " [ 1.   33.33]\n",
      " [ 1.   26.11]\n",
      " [ 1.   21.67]]\n"
     ]
    }
   ],
   "source": [
    "### START CODE HERE ###\n",
    "\n",
    "theta_zero = np.ones(X_data.shape)\n",
    "X_train = np.hstack((theta_zero, X_data))\n",
    "\n",
    "### END CODE HERE ###\n",
    "\n",
    "y_train = y_data\n",
    "\n",
    "print(\"X_train shape: \", X_train.shape)\n",
    "print(\"X_train[:5,:] = \", X_train[:5,:])\n"
   ]
  },
  {
   "cell_type": "markdown",
   "metadata": {},
   "source": [
    "**任务2：** 接着，初始化参数向量$\\theta$。$\\theta$的shape是(2,1)，我们随机初始化$\\theta$。\n",
    "\n",
    "提示：numpy的随机函数是`np.random.rand`。"
   ]
  },
  {
   "cell_type": "code",
   "execution_count": 12,
   "metadata": {},
   "outputs": [],
   "source": [
    "def init_theta(shape):\n",
    "    \"\"\"初始化参数\n",
    "    参数：\n",
    "        shape: 参数形状\n",
    "    返回：\n",
    "        theta_init: 初始化后的参数\n",
    "    \n",
    "    \"\"\"\n",
    "    np.random.seed(0)\n",
    "    m, n = shape\n",
    "    ### START CODE HERE ###\n",
    "\n",
    "    theta_init = np.random.rand(m, n)\n",
    "\n",
    "    ### END CODE HERE ###\n",
    "    \n",
    "    return theta_init"
   ]
  },
  {
   "cell_type": "code",
   "execution_count": 13,
   "metadata": {},
   "outputs": [
    {
     "name": "stdout",
     "output_type": "stream",
     "text": [
      "theta_init shape:  (2, 1)\n",
      "theta_init =  [[0.5488135 ]\n",
      " [0.71518937]]\n"
     ]
    }
   ],
   "source": [
    "theta_init = init_theta((2,1))\n",
    "\n",
    "print(\"theta_init shape: \", theta_init.shape)\n",
    "print(\"theta_init = \", theta_init)\n"
   ]
  },
  {
   "cell_type": "markdown",
   "metadata": {},
   "source": [
    "梯度下降的迭代过程包括3个步骤。\n",
    "\n",
    "**第1步：** 计算损失函数$J(\\theta)$的值。使用for循环逐个计算样本的损失值的效率不高，当数据集的样本数据非常多，使用for循环计算损失函数$J(\\theta)$的效率非常低。效率高的方法是使用向量实现计算损失函数$J(\\theta)$。$X$ 大小为$m \\times (n+1)$，每行是一条样本特征向量，$\\theta$ 大小为$(n+1) \\times 1$，可以$X \\theta$计算所有样本的预测结果，接着$(X \\theta - y)^2$计算所有样本的损失值，最后求和并除以2m得到$J(\\theta)$的值。\n",
    "\n",
    "**任务3：** 实现计算$J(\\theta)$的函数。\n",
    "提示：矩阵运算使用`np.dot`函数，平方运算使用`np.power(data, 2)`函数，求和运算使用`np.sum`。"
   ]
  },
  {
   "cell_type": "code",
   "execution_count": 17,
   "metadata": {},
   "outputs": [],
   "source": [
    "def compute_J(X, y, theta):\n",
    "    \"\"\"计算损失函数J\n",
    "    参数：\n",
    "        X: 训练集数据特征，shape: (m, n+1)\n",
    "        y: 训练集数据标签，shape: (m, 1)\n",
    "        theta: 参数，shape: (n+1, 1)\n",
    "        \n",
    "    返回：\n",
    "        loss: 损失值\n",
    "    \"\"\"\n",
    "    \n",
    "    m = X.shape[0]\n",
    "    \n",
    "    ### START CODE HERE ###\n",
    "\n",
    "    loss = sum(np.power(np.dot(X, theta) - y, 2)) / (2 * m)\n",
    "\n",
    "    ### END CODE HERE ###\n",
    "    \n",
    "    return loss"
   ]
  },
  {
   "cell_type": "code",
   "execution_count": 18,
   "metadata": {},
   "outputs": [
    {
     "name": "stdout",
     "output_type": "stream",
     "text": [
      "loss_init =  [148.87165656]\n"
     ]
    }
   ],
   "source": [
    "loss_init = compute_J(X_train, y_train, theta_init)\n",
    "print(\"loss_init = \", loss_init)\n"
   ]
  },
  {
   "cell_type": "markdown",
   "metadata": {},
   "source": [
    "**第2步：** 计算参数$\\theta$的梯度。在该例子中，损失函数$J(\\theta)$为\n",
    "$$\n",
    "J(\\theta) = \\frac{1}{2m} \\sum_{i=1}^{m} \\left ( \\theta_0 x_0 + \\theta_1 x_1 - y \\right )^2\n",
    "$$\n",
    "$\\theta_0$的梯度为\n",
    "$$\n",
    "\\frac{\\partial J(\\theta)}{\\partial \\theta_0} = \\frac{1}{m} \\sum_{i=1}^{m} \\left ( \\theta_0 x_0 + \\theta_1 x_1 - y \\right ) x_0\n",
    "$$\n",
    "$\\theta_1$的梯度为\n",
    "$$\n",
    "\\frac{\\partial J(\\theta)}{\\partial \\theta_1} = \\frac{1}{m} \\sum_{i=1}^{m} \\left ( \\theta_0 x_0 + \\theta_1 x_1 - y \\right ) x_1\n",
    "$$\n",
    "一般化后\n",
    "$$\n",
    "\\frac{\\partial J(\\theta)}{\\partial \\theta_i} = \\frac{1}{m} \\sum_{i=1}^{m} \\left ( \\theta^T x - y \\right ) x_i\n",
    "$$\n",
    "\n",
    "**任务4：** 实现`gradient`函数，这里同样用向量化实现，向量化公式为\n",
    "$$\n",
    "\\text{gradients} = X^T (X \\theta - y) / m\n",
    "$$\n",
    "提示：矩阵A的转置表示为`A.T`"
   ]
  },
  {
   "cell_type": "code",
   "execution_count": 19,
   "metadata": {},
   "outputs": [],
   "source": [
    "def compute_gradient(X, y, theta):\n",
    "    \"\"\"计算参数theta的梯度值\n",
    "    参数：\n",
    "        X: 训练集数据特征，shape: (m, n+1)\n",
    "        y: 训练集数据标签，shape: (m, 1)\n",
    "        theta: 参数，shape: (n+1, 1)\n",
    "        \n",
    "    返回：\n",
    "        gradients: theta的梯度列表\n",
    "    \"\"\"\n",
    "    \n",
    "    m = X.shape[0]\n",
    "    gradients = None\n",
    "    \n",
    "    ### START CODE HERE ###\n",
    "    \n",
    "    gradients = np.dot(X.T, np.dot(X, theta) - y) / m;\n",
    "\n",
    "    ### END CODE HERE ###\n",
    "    \n",
    "    return gradients"
   ]
  },
  {
   "cell_type": "code",
   "execution_count": 20,
   "metadata": {},
   "outputs": [
    {
     "name": "stdout",
     "output_type": "stream",
     "text": [
      "gradients_init shape :  (2, 1)\n",
      "gradients_init =  [[ 16.32138507]\n",
      " [475.51600546]]\n"
     ]
    }
   ],
   "source": [
    "gradients_init = compute_gradient(X_train, y_train, theta_init)\n",
    "\n",
    "print(\"gradients_init shape : \", gradients_init.shape)\n",
    "print(\"gradients_init = \", gradients_init)\n"
   ]
  },
  {
   "cell_type": "markdown",
   "metadata": {},
   "source": [
    "**第3步：** 更新参数$\\theta$。为了让损失函数$J(\\theta)$值降低，需要使$\\theta$往负梯度方向移动，因此更新操作为：\n",
    "$$\n",
    "\\theta_i := \\theta_i - \\alpha \\frac{\\partial J(\\theta)}{\\partial \\theta_i}\n",
    "$$\n",
    "其中，$\\alpha$是学习参数，控制$\\theta$的移动步长，是一个超参数，需要自己选择合适的值。如果$\\alpha$太小，梯度下降的收敛速度会变慢，而如果$\\alpha$太大，则可能损失函数$J(\\theta)$值会变大。\n",
    "\n",
    "注意，$\\theta$中的元素要同时更新。\n",
    "\n",
    "**任务5：** 实现`update_parameters`函数。"
   ]
  },
  {
   "cell_type": "code",
   "execution_count": 25,
   "metadata": {},
   "outputs": [],
   "source": [
    "def update_parameters(theta, gradients, learning_rate=0.01):\n",
    "    \"\"\"更新参数theta\n",
    "    参数：\n",
    "        theta: 参数，shape: (n+1, 1)\n",
    "        gradients: 梯度，shape: (m+1, 1)\n",
    "        learning_rate: 学习率，默认为0.01\n",
    "        \n",
    "    返回：\n",
    "        parameters: 更新后的参数\n",
    "    \"\"\"\n",
    "    ### START CODE HERE ###\n",
    "\n",
    "    parameters = theta - learning_rate * compute_gradient(X_train, y_train, theta_init)\n",
    "\n",
    "    ### END CODE HERE ###\n",
    "    \n",
    "    return parameters"
   ]
  },
  {
   "cell_type": "code",
   "execution_count": 26,
   "metadata": {},
   "outputs": [
    {
     "name": "stdout",
     "output_type": "stream",
     "text": [
      "theta_one_iter =  [[ 0.38559965]\n",
      " [-4.03997069]]\n"
     ]
    }
   ],
   "source": [
    "theta_one_iter = update_parameters(theta_init, gradients_init)\n",
    "\n",
    "print(\"theta_one_iter = \", theta_one_iter)\n"
   ]
  },
  {
   "cell_type": "markdown",
   "metadata": {},
   "source": [
    "**任务6：** 现在，实现梯度下降函数。梯度下降的迭代次数参数iter_num也是一个超参数，如果iter_num太小，损失函数$J(\\theta)$还没有收敛；如果iter_num太大，损失函数$J(\\theta)$早就收敛了，过多的迭代浪费时间。"
   ]
  },
  {
   "cell_type": "code",
   "execution_count": 59,
   "metadata": {},
   "outputs": [],
   "source": [
    "def gradient_descent(X, y, theta_init, iter_num = 100, learning_rate=0.01):\n",
    "    \"\"\"梯度下降函数\n",
    "    参数：\n",
    "        X: 训练集数据特征，shape: (m, n+1)\n",
    "        y: 训练集数据标签，shape: (m, 1)\n",
    "        iter_num: 梯度下降的迭代次数\n",
    "        theta_init: 初始化的参数，shape: (n+1, 1)\n",
    "    返回：\n",
    "        loss_history: 每次迭代的损失值\n",
    "        theta_history: 每次迭代更新后的参数\n",
    "        theta: 训练得到的参数\n",
    "    \"\"\"\n",
    "    \n",
    "    loss_history = []\n",
    "    theta_history = []\n",
    "    theta = theta_init\n",
    "    \n",
    "    for i in range(iter_num):\n",
    "        \n",
    "        ### START CODE HERE ###\n",
    "        \n",
    "        loss = compute_J(X, y, theta)\n",
    "        gradients = compute_gradient(X, y, theta)\n",
    "        theta = update_parameters(theta, gradients, learning_rate)\n",
    "\n",
    "        ### END CODE HERE ###\n",
    "        \n",
    "        loss_history.append(loss)\n",
    "        theta_history.append(theta)\n",
    "    \n",
    "    return loss_history, theta_history, theta"
   ]
  },
  {
   "cell_type": "code",
   "execution_count": 84,
   "metadata": {},
   "outputs": [
    {
     "name": "stdout",
     "output_type": "stream",
     "text": [
      "theta =  [[0.5275957 ]\n",
      " [0.09701856]]\n",
      "loss =  [0.12953932]\n"
     ]
    },
    {
     "data": {
      "image/png": "[encoded data removed]",
      "text/plain": [
       "<Figure size 432x288 with 1 Axes>"
      ]
     },
     "metadata": {},
     "output_type": "display_data"
    }
   ],
   "source": [
    "# 尝试不同的学习率和迭代次数\n",
    "# 提交作业之前要把学习效率改为0.0001，然后重新运行一遍\n",
    "\n",
    "loss_history, theta_history, theta = gradient_descent(X_train, y_train, theta_init, learning_rate=0.000013)\n",
    "\n",
    "print(\"theta = \", theta)\n",
    "\n",
    "plt.plot(loss_history)\n",
    "print(\"loss = \", loss_history[-1])\n"
   ]
  },
  {
   "cell_type": "markdown",
   "metadata": {},
   "source": [
    "现在直观地了解一下梯度下降的过程。"
   ]
  },
  {
   "cell_type": "code",
   "execution_count": 85,
   "metadata": {},
   "outputs": [
    {
     "data": {
      "text/plain": [
       "<matplotlib.collections.PathCollection at 0x10de38080>"
      ]
     },
     "execution_count": 85,
     "metadata": {},
     "output_type": "execute_result"
    },
    {
     "data": {
      "image/png": "[encoded data removed]",
      "text/plain": [
       "<Figure size 432x288 with 1 Axes>"
      ]
     },
     "metadata": {},
     "output_type": "display_data"
    }
   ],
   "source": [
    "theta_0 = np.linspace(0, 1, 50)\n",
    "theta_1 = np.linspace(0, 1, 50)\n",
    "theta_0, theta_1 = np.meshgrid(theta_0,theta_1)\n",
    "J = np.zeros_like(theta_0)\n",
    "\n",
    "for i in range(50):\n",
    "    for j in range(50):\n",
    "        J[i,j] = compute_J(X_train, y_train, np.array([[theta_0[i,j]],[theta_1[i,j]]]))\n",
    "\n",
    "plt.contourf(theta_0, theta_1, J, 10, alpha = 0.6, cmap = plt.cm.coolwarm)\n",
    "C = plt.contour(theta_0, theta_1, J, 10, colors = 'black')\n",
    "\n",
    "# 画出损失函数J的历史位置\n",
    "history_num = len(theta_history)\n",
    "theta_0_history = np.zeros(history_num)\n",
    "theta_1_history = np.zeros(history_num)\n",
    "for i in range(history_num):\n",
    "    theta_0_history[i],theta_1_history[i] = theta_history[i][0,0],theta_history[i][1,0]\n",
    "plt.scatter(theta_0_history, theta_1_history, c=\"r\")"
   ]
  },
  {
   "cell_type": "markdown",
   "metadata": {},
   "source": [
    "可以看到，$J(\\theta)$的值不断地往最低点移动。在y轴，$J(\\theta)$下降的比较快，在x轴，$J(\\theta)$下降的比较慢。"
   ]
  },
  {
   "cell_type": "markdown",
   "metadata": {},
   "source": [
    "## 多变量回归\n",
    "上述例子时单变量回归的例子，样本的特征只有一个——一天的最高温度。负责人进过分析后发现，城市一天的峰值用电量还与城市人口有关系，因此，他在回归模型中添加城市人口变量$x_2$，你的任务是训练这个多变量回归方程：\n",
    "$$\n",
    "h(x) = \\theta^T x = \\theta_0 * x_0 + \\theta_1 * x_1 + \\theta_2 * x_2\n",
    "$$\n",
    "之前实现的梯度下降法使用的对象是$\\theta$和X向量，所示实现的梯度下降函数适用单变量回归和多变量回归。\n",
    "\n",
    "**任务7：** 现在，训练一个多变量回归模型。"
   ]
  },
  {
   "cell_type": "code",
   "execution_count": 89,
   "metadata": {},
   "outputs": [
    {
     "name": "stdout",
     "output_type": "stream",
     "text": [
      "theta =  [[0.53408849]\n",
      " [0.70046435]\n",
      " [0.1775479 ]\n",
      " [0.52781524]]\n",
      "loss =  [7.26352344]\n"
     ]
    },
    {
     "data": {
      "image/png": "[encoded data removed]",
      "text/plain": [
       "<Figure size 432x288 with 1 Axes>"
      ]
     },
     "metadata": {},
     "output_type": "display_data"
    }
   ],
   "source": [
    "# data 数据第二列为人口信息\n",
    "X_data = data[:,0:2].reshape(100, 2)\n",
    "y_data = data[:,2].reshape(100, 1)\n",
    "\n",
    "### START CODE HERE ###\n",
    "# 训练多变量回归模型\n",
    "\n",
    "theta_zero = np.ones(X_data.shape)\n",
    "X_train = np.hstack((theta_zero, X_data))\n",
    "y_train = y_data\n",
    "theta_init = init_theta((4, 1))\n",
    "\n",
    "loss_history, _, theta = gradient_descent(X_train, y_train, theta_init, learning_rate=0.00001)\n",
    "\n",
    "### END CODE HERE ###\n",
    "\n",
    "print(\"theta = \", theta)\n",
    "\n",
    "plt.plot(loss_history)\n",
    "print(\"loss = \", loss_history[-1])\n"
   ]
  },
  {
   "cell_type": "markdown",
   "metadata": {},
   "source": [
    "## 多项式回归\n",
    "\n",
    "当我们数据的特征x与y的关系不是线性关系，而且又找不到合适的映射函数时，可以尝试多项式回归。多项式回归的最大优点就是可以通过增加x的高次项对实测点进行逼近，直至满意为止。事实上，多项式回归可以处理相当一类非线性问题，它在回归分析中占有重要的地位，因为任一函数都可以分段用多项式来逼近。因此，在通常的实际问题中，不论依变量与其他自变量的关系如何，我们总可以用多项式回归来进行分析。假设数据的特征只有一个a，多项式的最高次数为K，那么多项式回归方程为：\n",
    "$$\n",
    "h(x) = \\theta^T x = \\theta_0 * a^0 + \\theta_1 * a^1 + \\theta_2 * a^2 + \\cdots + \\theta_K * a^K\n",
    "$$\n",
    "若令$x = \\begin{bmatrix} a^0, a^1, a^2, \\cdots, a^K \\end{bmatrix}^T$，那么\n",
    "$$\n",
    "h(x) = \\theta^T x = \\theta_0 * x_0 + \\theta_1 * x_1 + \\theta_2 * x_2, \\cdots, \\theta_K * x^K\n",
    "$$\n",
    "这就变为多变量回归了。\n",
    "\n",
    "**任务8：**现在训练一个多项式模型，K取2。\n",
    "\n",
    "提示，$x_1$和$x_2$的二次多项式为：\n",
    "$$\n",
    "\\theta_0 * 1 + \\theta_1 * x_1 + \\theta_2 * x_2 + \\theta_3 * x_1 * x_2 + \\theta_4 * x_1^2 + \\theta_5 * x_2^2\n",
    "$$"
   ]
  },
  {
   "cell_type": "code",
   "execution_count": 100,
   "metadata": {},
   "outputs": [
    {
     "name": "stdout",
     "output_type": "stream",
     "text": [
      "theta =  [[0.54845725]\n",
      " [0.70412515]\n",
      " [0.60234791]\n",
      " [0.53194596]\n",
      " [0.06233374]\n",
      " [0.64536431]]\n",
      "loss =  [4360.73148772]\n"
     ]
    },
    {
     "data": {
      "image/png": "[encoded data removed]",
      "text/plain": [
       "<Figure size 432x288 with 1 Axes>"
      ]
     },
     "metadata": {},
     "output_type": "display_data"
    }
   ],
   "source": [
    "X_data = data[:,0:2].reshape(100, 2)\n",
    "y_data = data[:,2].reshape(100, 1)\n",
    "\n",
    "### START CODE HERE ###\n",
    "# 训练多项式回归模型\n",
    "\n",
    "X_train = np.zeros((100, 6))\n",
    "X_train[:,0] = np.ones((100,))\n",
    "# x_1 和 x_2 拓展为多次项\n",
    "X_train[:,0] = np.ones((100,))\n",
    "X_train[:,1] = X_data[:,0]\n",
    "X_train[:,2] = X_data[:,1]\n",
    "X_train[:,3] = X_data[:,0] * X_data[:,1]\n",
    "X_train[:,4] = X_data[:,0] * X_data[:,0]\n",
    "X_train[:,5] = X_data[:,1] * X_data[:,1]\n",
    "y_train = y_data\n",
    "\n",
    "theta_init = init_theta((6, 1))\n",
    "\n",
    "loss_history, _, theta = gradient_descent(X_train, y_train, theta_init, learning_rate=0.00000001)\n",
    "\n",
    "### END CODE HERE ###\n",
    "\n",
    "print(\"theta = \", theta)\n",
    "\n",
    "plt.plot(loss_history)\n",
    "print(\"loss = \", loss_history[-1])"
   ]
  },
  {
   "cell_type": "markdown",
   "metadata": {},
   "source": [
    "## 特征归一化\n",
    "\n",
    "特征归一化可以确保特征在相同的尺度，加快梯度下降的收敛过程。\n",
    "\n",
    "**任务9：** 对数据进行零均值单位方差归一化处理。零均值单位方差归一化公式：\n",
    "$$\n",
    "x_i = \\frac{x_i - \\mu_i}{\\sigma_i}\n",
    "$$\n",
    "其中i表示第i个特征，$\\mu_i$表示第i个特征的均值，$\\sigma_i$表示第i个特征的标准差。进行零均值单位方差归一化处理后，数据符合标准正态分布，即均值为0，标准差为1。注意，使用新样本进行预测时，需要对样本的特征进行相同的缩放处理。\n",
    "\n",
    "提示：求特征的均值，使用numpy的函数`np.mean`，求特征的标准差，使用numpy的函数`np.std`，需要注意对哪个维度求均值和标准差。"
   ]
  },
  {
   "cell_type": "code",
   "execution_count": null,
   "metadata": {
    "collapsed": true,
    "scrolled": true
   },
   "outputs": [],
   "source": [
    "\n",
    "### START CODE HERE ###\n",
    "\n",
    "# 计算特征的均值 mu\n",
    "mu = None\n",
    "# 计算特征的标准差 sigma\n",
    "sigma = None\n",
    "# 零均值单位方差归一化\n",
    "X_norm = None\n",
    "\n",
    "# 训练多项式回归模型\n",
    "\n",
    "X_train = None\n",
    "y_train = None\n",
    "\n",
    "theta_init = None\n",
    "\n",
    "# 学习率使用0.1\n",
    "loss_history, _, theta = None\n",
    "\n",
    "### END CODE HERE ###\n",
    "\n",
    "print(\"mu = \", mu)\n",
    "print(\"sigma = \", sigma)\n",
    "\n",
    "print(\"theta = \", theta)\n",
    "\n",
    "plt.plot(loss_history)\n",
    "print(\"loss = \", loss_history[-1])\n"
   ]
  },
  {
   "cell_type": "markdown",
   "metadata": {},
   "source": [
    "我们来直观地了解特征尺度归一化的梯度下降的过程。这里只展示单变量回归梯度下降过程。"
   ]
  },
  {
   "cell_type": "code",
   "execution_count": null,
   "metadata": {
    "collapsed": true
   },
   "outputs": [],
   "source": [
    "X_show = X_train[:,0:2]\n",
    "theta_show = init_theta((2,1))\n",
    "# 画损失函数曲面图\n",
    "loss_history, theta_history, theta = gradient_descent(X_show, y_train, theta_show, learning_rate=0.05)\n",
    "\n",
    "theta_0 = np.linspace(0, 5, 50)\n",
    "theta_1 = np.linspace(-2, 3, 50)\n",
    "theta_0, theta_1 = np.meshgrid(theta_0,theta_1)\n",
    "J = np.zeros_like(theta_0)\n",
    "\n",
    "for i in range(50):\n",
    "    for j in range(50):\n",
    "        J[i,j] = compute_J(X_show, y_train, np.array([[theta_0[i,j]],[theta_1[i,j]]]))\n",
    "\n",
    "plt.contourf(theta_0, theta_1, J, 10, alpha = 0.6, cmap = plt.cm.coolwarm)\n",
    "C = plt.contour(theta_0, theta_1, J, 10, colors = 'black')\n",
    "\n",
    "# 画出损失函数J的历史位置\n",
    "history_num = len(theta_history)\n",
    "theta_0_history = np.zeros(history_num)\n",
    "theta_1_history = np.zeros(history_num)\n",
    "for i in range(history_num):\n",
    "    theta_0_history[i],theta_1_history[i] = theta_history[i][0,0],theta_history[i][1,0]\n",
    "plt.scatter(theta_0_history, theta_1_history, c=\"r\")"
   ]
  },
  {
   "cell_type": "markdown",
   "metadata": {},
   "source": [
    "可以看到，$J(\\theta)$的值不断地往最低点移动。与没有进行特征尺度归一化的图相比，归一化后，每个维度的变化幅度大致相同，这有助于$J(\\theta)$的值快速下降到最低点。"
   ]
  },
  {
   "cell_type": "markdown",
   "metadata": {},
   "source": [
    "## AdaGrad\n",
    "接着来讲讲梯度下降的优化算法 AdaGrad。\n",
    "\n",
    "当$J(\\theta)$收敛到最低值附近时，因为步长$\\alpha$大小固定的原因，$J(\\theta)$会在最低值附近徘徊，而不能到达最低值。因此，AdaGrad的想法是随着迭代次数的增加降低学习率$\\alpha$，学习率$\\alpha$衰减的方式是\n",
    "$$\n",
    "\\alpha^t = \\frac{\\alpha}{\\sqrt{t+1}}\n",
    "$$\n",
    "其中t表示第t次迭代。\n",
    "\n",
    "如果梯度数值小，$J(\\theta)$的移动步长小，$J(\\theta)$在坡度平缓的区域内下降速度会变慢。AdaGrad使用均方根来加快$J(\\theta)$在平缓区域的下降速度。均方根的表示为\n",
    "$$\n",
    "\\sigma^t = \\sqrt{\\frac{1}{t+1} \\sum_{i=0}^{t}(g^i)2}\n",
    "$$\n",
    "其中$g^i$表示历史的梯度值。AdaGrad 的更新参数公式是\n",
    "$$\n",
    "\\begin{aligned}\n",
    "\\theta^{t+1} & := \\theta^t - \\frac{\\alpha^t}{\\sigma^t} g^t \\\\\n",
    "& := \\theta^t - \\frac{\\alpha}{\\sqrt{\\sum_{i=0}^t (g^i)^2}} g^t\n",
    "\\end{aligned}\n",
    "$$\n",
    "在坡度平缓的区域，均方根的数值小，梯度除以一个数值小的数会变大，从而加大了$J(\\theta)$移动步长，也因此加快梯度下降速度。但是，AdaGrad的缺点是，随着迭代次数的增大，均方根会越来越大，梯度趋近于0，导致训练提前停止。为了防止分母为0，我们给分母加上一个小数值$10^{-7}$。\n",
    "$$\n",
    "\\theta^{t+1} := \\theta^t - \\frac{\\alpha}{\\sqrt{\\sum_{i=0}^t (g^i)^2} + 10^{-7}} g^t\n",
    "$$\n",
    "\n",
    "**任务10：** 接下来实现 AdaGrad。首先实现参数更新函数。"
   ]
  },
  {
   "cell_type": "code",
   "execution_count": null,
   "metadata": {
    "collapsed": true
   },
   "outputs": [],
   "source": [
    "def update_parameters_adagrad(theta, gradients_history, learning_rate = 0.01):\n",
    "    \"\"\" AdaGrad 的参数更新函数\n",
    "    参数：\n",
    "        theta: 参数，shape: (m, n+1)\n",
    "        gradients_history: 历史梯度列表\n",
    "    返回：\n",
    "        parameters: 更新后的参数\n",
    "    \"\"\"\n",
    "    grad_squared = np.zeros_like(theta)\n",
    "    history_len = len(gradients_history)\n",
    "    gradients = None\n",
    "    \n",
    "    ### START CODE HERE ###\n",
    "        \n",
    "    for i in range(history_len):        \n",
    "        gradients = gradients_history[i]\n",
    "        grad_squared += None\n",
    "    \n",
    "    parameters = None\n",
    "    \n",
    "    ### END CODE HERE ###\n",
    "    \n",
    "    return parameters"
   ]
  },
  {
   "cell_type": "code",
   "execution_count": null,
   "metadata": {
    "collapsed": true
   },
   "outputs": [],
   "source": [
    "gradients_init = compute_gradient(X_train, y_train, theta_init)\n",
    "theta_one_iter_adagrad = update_parameters_adagrad(theta_init, [gradients_init])\n",
    "\n",
    "print(\"theta_one_iter_adagrad = \", theta_one_iter_adagrad)\n"
   ]
  },
  {
   "cell_type": "markdown",
   "metadata": {},
   "source": [
    "**任务11：** 然后实现`gradient_descent_ada`函数"
   ]
  },
  {
   "cell_type": "code",
   "execution_count": null,
   "metadata": {
    "collapsed": true
   },
   "outputs": [],
   "source": [
    "def gradient_descent_ada(X, y, theta_init, iter_num = 100, learning_rate=0.01):\n",
    "    \"\"\"梯度下降函数\n",
    "    参数：\n",
    "        X: 训练集数据特征，shape: (m, n+1)\n",
    "        y: 训练集数据标签，shape: (m, 1)\n",
    "        iter_num: 梯度下降的迭代次数\n",
    "        theta_init: 初始化的参数，shape: (n+1, 1)\n",
    "    返回：\n",
    "        loss_history: 每次迭代的损失值\n",
    "        theta_history: 每次迭代更新后的参数\n",
    "        theta: 训练得到的参数\n",
    "    \"\"\"\n",
    "    \n",
    "    loss_history = []\n",
    "    theta_history = []\n",
    "    gradients_history = []\n",
    "    theta = theta_init\n",
    "    \n",
    "    for i in range(iter_num):\n",
    "        \n",
    "        ### START CODE HERE ###\n",
    "        \n",
    "        loss = None\n",
    "        gradients = None\n",
    "        gradients_history.append(gradients)\n",
    "        theta = None\n",
    "        \n",
    "        ### END CODE HERE ###\n",
    "        \n",
    "        loss_history.append(loss)\n",
    "        theta_history.append(theta)\n",
    "    \n",
    "    return loss_history, theta_history, theta"
   ]
  },
  {
   "cell_type": "code",
   "execution_count": null,
   "metadata": {
    "collapsed": true
   },
   "outputs": [],
   "source": [
    "loss_history, _, theta = gradient_descent_ada(X_train, y_train, theta_init)\n",
    "\n",
    "print(\"theta = \", theta)\n",
    "\n",
    "plt.plot(loss_history)\n",
    "print(\"loss = \", loss_history[-1])\n"
   ]
  },
  {
   "cell_type": "markdown",
   "metadata": {},
   "source": [
    "在该例子，AdaGrad 的下降速度反而更慢，因为梯度提前变为0，训练在$J(\\theta)$没有收敛之前就停止了。AdaGrad 的优点一般在 Mini-batch 梯度下降法中才体现出来。"
   ]
  },
  {
   "cell_type": "markdown",
   "metadata": {},
   "source": [
    "## 正规方程\n",
    "\n",
    "对于求函数极小值问题，可以使用求导数的方法，令函数的导数为0，然后求解方程，得到解析解。正规方程正是使用这种方法求的损失函数$J(\\theta)$的极小值，而线性回归的损失函数$J(\\theta)$是一个凸函数，所以极小值就是最小值。\n",
    "\n",
    "正规方程的求解过程就不详细推导了，正规方程的公式是：\n",
    "$$\n",
    "\\theta = (X^T X)^{-1} X^T y\n",
    "$$\n",
    "\n",
    "如果$m \\le n +1$，那么$X^T X$是奇异矩阵，即$X^T X$不可逆。\n",
    "$X^T X$不可逆的原因可能是：\n",
    "\n",
    "- 特征之间冗余，比如特征向量中两个特征是线性相关的。\n",
    "- 特征太多，删去一些特征再进行运算。\n",
    "\n",
    "正规方程的缺点之一就是$X^T X$不可逆的情况，可以通过正则化的方式解决。另一个缺点是，如果样本的个数太多，特征数量太多($n \\gt 10000$)，正规方程的运算会很慢（求逆矩阵的运算复杂）。\n",
    "\n",
    "**任务12：** 下面来实现正规方程。\n",
    "提示：Numpy 求逆矩阵的函数是`np.linalg.inv`。"
   ]
  },
  {
   "cell_type": "code",
   "execution_count": null,
   "metadata": {
    "collapsed": true
   },
   "outputs": [],
   "source": [
    "def normal_equation(X, y):\n",
    "    \"\"\"正规方程求线性回归方程的参数 theta\n",
    "    参数：\n",
    "        X: 训练集数据特征，shape: (m, n+1)\n",
    "        y: 训练集数据标签，shape: (m, 1)\n",
    "    返回：\n",
    "        theta: 线性回归方程的参数\n",
    "    \"\"\"\n",
    "    \n",
    "    ### START CODE HERE ###\n",
    "        \n",
    "    theta = None\n",
    "\n",
    "    ### END CODE HERE ###\n",
    "    \n",
    "    return theta"
   ]
  },
  {
   "cell_type": "code",
   "execution_count": null,
   "metadata": {
    "collapsed": true
   },
   "outputs": [],
   "source": [
    "theta = normal_equation(X_train, y_train)\n",
    "\n",
    "print(\"theta = \", theta)\n"
   ]
  },
  {
   "cell_type": "markdown",
   "metadata": {},
   "source": [
    "恭喜，你已经帮助项目负责人计算出了一个线性模型。\n",
    "\n",
    "**任务13：** 假设明天的最高温度是$x_1 = 30$°C，人口$x_2 = 1.3$百万，使用通过正规方程计算得到的$\\theta$预测明天的城市的峰值用电量（单位：GW）吧！注意，x要进行缩放处理。"
   ]
  },
  {
   "cell_type": "code",
   "execution_count": null,
   "metadata": {
    "collapsed": true
   },
   "outputs": [],
   "source": [
    "x1 = 30\n",
    "x2 = 1.3\n",
    "\n",
    "x = np.array([x1, x2]).reshape(1, 2)\n",
    "\n",
    "### START CODE HERE ###\n",
    "\n",
    "x = None\n",
    "x = np.hstack([[[1]], x])\n",
    "x = x.T\n",
    "predict = None\n",
    "\n",
    "### END CODE HERE ###\n",
    "\n",
    "print(\"predict = \", predict)\n"
   ]
  },
  {
   "cell_type": "code",
   "execution_count": null,
   "metadata": {
    "collapsed": true
   },
   "outputs": [],
   "source": []
  }
 ],
 "metadata": {
  "kernelspec": {
   "display_name": "Python 3",
   "language": "python",
   "name": "python3"
  },
  "language_info": {
   "codemirror_mode": {
    "name": "ipython",
    "version": 3
   },
   "file_extension": ".py",
   "mimetype": "text/x-python",
   "name": "python",
   "nbconvert_exporter": "python",
   "pygments_lexer": "ipython3",
   "version": "3.6.5"
  }
 },
 "nbformat": 4,
 "nbformat_minor": 2
}
