{
 "cells": [
  {
   "cell_type": "markdown",
   "metadata": {},
   "source": [
    "\n",
    "# Neural Networks & Deep Learning\n",
    "在这一节中，我们将构建一个两层的神经网络来处理手写数字识别问题，之后我们将运用Momentum、RMSprop、Adam优化算法来加速梯度下降的过程，首先我们先来实现一个简单的神经网络。 \n",
    "## 一、标准浅层神经网络\n",
    "## 1. 导入所需的Python库"
   ]
  },
  {
   "cell_type": "code",
   "execution_count": 1,
   "metadata": {},
   "outputs": [],
   "source": [
    "import os\n",
    "import struct\n",
    "import numpy as np\n",
    "import matplotlib.pyplot as plt\n",
    "from matplotlib.pyplot import savefig\n",
    "import math"
   ]
  },
  {
   "cell_type": "markdown",
   "metadata": {},
   "source": [
    "## 2. 加载数据集\n",
    "先介绍一下在这个实验中所用到的数据库MNIST，MNIST数据集是一个手写体数据集，其中每个手写数字是一张28×28的图片，图片的标记为一个0-9表示的数字，关于MNIST数据集更详细的介绍可以自行百度。  \n",
    "在处理多分类任务时，我们可以使用softmax来进行处理，这里的手写数字识别任务就是一个多分类任务，共包含有10类，分别用数字0-9表示，而在softmax中，每一类可以表示为一个向量，所以我们需要将类对应的符号标记转化成一个向量表示，这就是one-hot向量，比如，在手写数字识别中，数字0和1对应的one-hot向量分别为： \n",
    "$$one-hot(0)=\\begin{bmatrix}1 \\\\ 0\\\\ 0\\\\ 0\\\\ 0\\\\ 0\\\\ 0\\\\ 0\\\\ 0\\\\ 0\\\\ \\end{bmatrix},one-hot(1)=\\begin{bmatrix}0 \\\\ 1\\\\ 0\\\\ 0\\\\ 0\\\\ 0\\\\ 0\\\\ 0\\\\ 0\\\\ 0\\\\ \\end{bmatrix}$$ \n",
    "在训练集中，我们需要把样本的标记$Y$转化为one-hot向量。  \n",
    "下面的代码直接运行即可 "
   ]
  },
  {
   "cell_type": "code",
   "execution_count": 2,
   "metadata": {},
   "outputs": [
    {
     "name": "stdout",
     "output_type": "stream",
     "text": [
      "The shape of X_train is: (784, 1000)\n",
      "The shape of Y_train is: (10, 1000)\n",
      "The shape of X_test is: (784, 300)\n",
      "The shape of Y_test is: (1, 300)\n"
     ]
    }
   ],
   "source": [
    "#加载训练集或测试集\n",
    "def load_mnist(path, kind='train'):\n",
    "    \"\"\"Load MNIST data from `path`\"\"\"\n",
    "    labels_path = os.path.join(path,\n",
    "                               '%s-labels.idx1-ubyte'\n",
    "                               % kind)\n",
    "    images_path = os.path.join(path,\n",
    "                               '%s-images.idx3-ubyte'\n",
    "                               % kind)\n",
    "    with open(labels_path, 'rb') as lbpath:\n",
    "        magic, n = struct.unpack('>II',\n",
    "                                 lbpath.read(8))\n",
    "        labels = np.fromfile(lbpath,\n",
    "                             dtype=np.uint8)\n",
    "\n",
    "    with open(images_path, 'rb') as imgpath:\n",
    "        magic, num, rows, cols = struct.unpack('>IIII',\n",
    "                                               imgpath.read(16))\n",
    "        images = np.fromfile(imgpath,\n",
    "                             dtype=np.uint8).reshape(len(labels), 784)\n",
    "\n",
    "    return images, labels\n",
    "\n",
    "path = './MNIST Data'    #数据集文件所在目录\n",
    "X_train, Y_train = load_mnist(path)    #加载训练集样本X_train、Y_train\n",
    "X_train = X_train.T\n",
    "Y_train = Y_train.reshape((1, -1))\n",
    "X_test, Y_test = load_mnist(path, kind='t10k')    #加载测试集样本X_test、Y_test\n",
    "X_test = X_test.T\n",
    "Y_test = Y_test.reshape((1, -1))\n",
    "#转换成one_hot向量\n",
    "Y_train = np.eye(10)[Y_train.reshape(-1)].T\n",
    "\n",
    "#只选取一部分样本训练与测试\n",
    "X_train = X_train[:, 0:1000]\n",
    "Y_train = Y_train[:, 0:1000]\n",
    "X_test = X_test[:, 0:300]\n",
    "Y_test = Y_test[:, 0:300]\n",
    "print('The shape of X_train is:',X_train.shape)\n",
    "print('The shape of Y_train is:',Y_train.shape)\n",
    "print('The shape of X_test is:',X_test.shape)\n",
    "print('The shape of Y_test is:',Y_test.shape)"
   ]
  },
  {
   "cell_type": "markdown",
   "metadata": {},
   "source": [
    "预期输出：  \n",
    "The shape of X_train is: (784, 1000)  \n",
    "The shape of Y_train is: (10, 1000)  \n",
    "The shape of X_test is: (784, 300)  \n",
    "The shape of Y_test is: (1, 300)  "
   ]
  },
  {
   "cell_type": "markdown",
   "metadata": {},
   "source": [
    "从上面的输出可以看出，训练集中包含有1000个样本，测试集中包含300个样本，每个样本是一个784×1的向量，其中784=28×28."
   ]
  },
  {
   "cell_type": "markdown",
   "metadata": {},
   "source": [
    "## 3. 可视化数据\n",
    "运行下面的代码，让我们来看一下训练集中第3个样本"
   ]
  },
  {
   "cell_type": "code",
   "execution_count": 3,
   "metadata": {},
   "outputs": [
    {
     "data": {
      "image/png": "[encoded data removed]",
      "text/plain": [
       "<Figure size 432x288 with 1 Axes>"
      ]
     },
     "metadata": {
      "needs_background": "light"
     },
     "output_type": "display_data"
    }
   ],
   "source": [
    "index = 2    #索引\n",
    "img = X_train[:, index].reshape(28, 28)\n",
    "fig = plt.figure()\n",
    "\n",
    "ax1 = fig.add_subplot(221)\n",
    "ax1.imshow(img, cmap='Greys')\n",
    "plt.savefig('./original_data.png')\n",
    "plt.show()"
   ]
  },
  {
   "cell_type": "markdown",
   "metadata": {},
   "source": [
    "## 4. 定义神经网络结构\n",
    "我们要实现的是一个2层的神经网络，包含输入层、隐藏层、输出层，其中隐藏层包含300个节点，输出层包含10个节点连接softmax层，下面我们来定义这些参数："
   ]
  },
  {
   "cell_type": "code",
   "execution_count": 4,
   "metadata": {},
   "outputs": [],
   "source": [
    "#定义神经网络各层的数量\n",
    "n_x, n_h, n_y = X_train.shape[0], 300, 10"
   ]
  },
  {
   "cell_type": "markdown",
   "metadata": {},
   "source": [
    "## 5. 初始化参数\n",
    "我们分别用$W_1$、$b_1$代表隐藏层的权重和偏置量，用$W_2$、$b_2$代表输出层的权重和偏置量，其中$W_1$、$W_2$进行随机初始化，之后再乘以一个比例因子0.01，$b_1$、$b_2$初始化为零向量。  \n",
    "**Hint**：使用np.random.randn(),np.zeros()  \n",
    "**任务1**：初始化神经网络中的各项参数"
   ]
  },
  {
   "cell_type": "code",
   "execution_count": 5,
   "metadata": {},
   "outputs": [
    {
     "name": "stdout",
     "output_type": "stream",
     "text": [
      "The shape of W1 is: (300, 784)\n",
      "The shape of b1 is: (300, 1)\n",
      "The shape of W2 is: (10, 300)\n",
      "The shape of b2 is: (10, 1)\n"
     ]
    }
   ],
   "source": [
    "#初始化参数\n",
    "def initialize_parameters(n_x, n_h, n_y):\n",
    "    \"\"\"\n",
    "    :param n_x: size of the input layer\n",
    "    :param n_h: size of the hidden layer\n",
    "    :param n_y: size of the output layer\n",
    "    :return: python dictionary containing your parameters         \n",
    "    \"\"\"\n",
    "    np.random.seed(2)    #设置一个随机数种子\n",
    "\n",
    "    ### START CODE HERE ### \n",
    "    \n",
    "    W1 = np.random.randn(n_h, n_x) * 0.01\n",
    "    b1 = np.zeros((n_h, 1))\n",
    "    W2 = np.random.randn(n_y, n_h) * 0.01\n",
    "    b2 = np.zeros((n_y, 1))\n",
    "    \n",
    "    ### END CODE HERE ###\n",
    "\n",
    "    parameters = {\"W1\": W1,\n",
    "                  \"b1\": b1,\n",
    "                  \"W2\": W2,\n",
    "                  \"b2\": b2}\n",
    "\n",
    "    return parameters\n",
    "\n",
    "#测试一下\n",
    "parameters = initialize_parameters(n_x, n_h, n_y)\n",
    "W1 = parameters['W1']\n",
    "b1 = parameters['b1']\n",
    "W2 = parameters['W2']\n",
    "b2 = parameters['b2']\n",
    "print('The shape of W1 is:',W1.shape)\n",
    "print('The shape of b1 is:',b1.shape)\n",
    "print('The shape of W2 is:',W2.shape)\n",
    "print('The shape of b2 is:',b2.shape)"
   ]
  },
  {
   "cell_type": "markdown",
   "metadata": {},
   "source": [
    "预期输出：  \n",
    "The shape of W1 is: (300, 784)  \n",
    "The shape of b1 is: (300, 1)  \n",
    "The shape of W2 is: (10, 300)  \n",
    "The shape of b2 is: (10, 1)  "
   ]
  },
  {
   "cell_type": "markdown",
   "metadata": {},
   "source": [
    "## 6. softmax函数\n",
    "softmax函数的计算过程分为以下两步：  \n",
    "1. 计算临时量：$t=e^z$;\n",
    "2. 计算：$$softmax(z)=\\frac{e^z}{\\sum_{j=1}^{C}{t_j}}$$  \n",
    "\n",
    "下面代码直接运行即可"
   ]
  },
  {
   "cell_type": "code",
   "execution_count": 6,
   "metadata": {},
   "outputs": [],
   "source": [
    "#定义softmax函数\n",
    "def softmax(x):\n",
    "    \"\"\"\n",
    "    :param x:\n",
    "    :return:\n",
    "    \"\"\"\n",
    "    e_x = np.exp(x - np.max(x))\n",
    "    return e_x / np.sum(e_x, axis=0)  # only difference"
   ]
  },
  {
   "cell_type": "markdown",
   "metadata": {},
   "source": [
    "## 7. 前向传播\n",
    "在隐藏层我们使用tanh函数作为激活函数，输出层使用softmax作为激活函数，则前向传播的过程为：  \n",
    "$$Z^{[1]}=W^{[1]}X+b^{[1]}$$\n",
    "$$A^{[1]}=g^{[1]}(Z^{[1]})$$\n",
    "$$Z^{[2]}=W^{[2]}A^{[1]}+b^{[2]}$$\n",
    "$$A^{[2]}=g^{[2]}(Z^{[2]})$$  \n",
    "其中$g^{[1]}$是tanh函数，$g^{[2]}$是softmax函数。  \n",
    "你将完成下面的代码来实现前向传播的过程。  \n",
    "**Hint**：tanh函数可以使用np.tanh()，矩阵相乘使用np.dot()，将前向传播中的有用信息保存到cache中方便后向传播使用  \n",
    "**任务2**：实现神经网络的前向传播"
   ]
  },
  {
   "cell_type": "code",
   "execution_count": 7,
   "metadata": {},
   "outputs": [
    {
     "name": "stdout",
     "output_type": "stream",
     "text": [
      "[[0.09746733]\n",
      " [0.06438007]\n",
      " [0.11613144]\n",
      " [0.10850626]\n",
      " [0.10017609]\n",
      " [0.07793854]\n",
      " [0.11006434]\n",
      " [0.11759289]\n",
      " [0.11471948]\n",
      " [0.09302355]]\n"
     ]
    }
   ],
   "source": [
    "#前向传播\n",
    "def forward_propagation(X, parameters):\n",
    "    \"\"\"\n",
    "    :param X: input data of size (n_x, m)\n",
    "    :param parameters: python dictionary containing your parameters\n",
    "    :return: \n",
    "    A2 -- The output of the second activation\n",
    "    cache -- a dictionary containing \"Z1\", \"A1\", \"Z2\" and \"A2\"\n",
    "    \"\"\"\n",
    "    #从parameters中获取各项参数\n",
    "    ### START CODE HERE ### \n",
    "    \n",
    "    W1 = parameters['W1']\n",
    "    b1 = parameters['b1']\n",
    "    W2 = parameters['W2']\n",
    "    b2 = parameters['b2']\n",
    "    \n",
    "    ### END CODE HERE ###\n",
    "\n",
    "    #计算前向传播\n",
    "    ### START CODE HERE ###\n",
    "    \n",
    "    Z1 = np.dot(W1, X) + b1\n",
    "    A1 = np.tanh(Z1)\n",
    "    Z2 = np.dot(W2, A1) + b2\n",
    "    A2 = softmax(Z2)\n",
    "    \n",
    "    ### END CODE HERE ###\n",
    "\n",
    "    cache = {\"Z1\": Z1,\n",
    "             \"A1\": A1,\n",
    "             \"Z2\": Z2,\n",
    "             \"A2\": A2}\n",
    "\n",
    "    return A2, cache\n",
    "\n",
    "#测试一下\n",
    "A2, cache = forward_propagation(X_train, parameters)\n",
    "print(A2[:, 0:1])"
   ]
  },
  {
   "cell_type": "markdown",
   "metadata": {},
   "source": [
    "预期输出：  \n",
    "[[0.09746733]\n",
    " [0.06438007]\n",
    " [0.11613144]\n",
    " [0.10850626]\n",
    " [0.10017609]\n",
    " [0.07793854]\n",
    " [0.11006434]\n",
    " [0.11759289]\n",
    " [0.11471948]\n",
    " [0.09302355]]"
   ]
  },
  {
   "cell_type": "markdown",
   "metadata": {},
   "source": [
    "## 8. 计算成本函数\n",
    "在Softmax中，我们一般使用的损失函数为：  \n",
    "$$L(\\hat{y},y)=-\\sum_{j=1}^{C}{y_jlog\\hat{y_j}}$$  \n",
    "其中，$C$是类别的数量，在本次实验中即为10.  \n",
    "成本函数为：  \n",
    "$$J(W^{[1]},b^{[1]},...)=\\frac{1}{m}\\sum_{i=1}^{m}{L(\\hat{y}^{(i)},y^{(i)})}$$  \n",
    "**任务3**：计算成本"
   ]
  },
  {
   "cell_type": "code",
   "execution_count": 8,
   "metadata": {},
   "outputs": [
    {
     "name": "stdout",
     "output_type": "stream",
     "text": [
      "2.2833212768987203\n"
     ]
    }
   ],
   "source": [
    "#计算成本函数\n",
    "def compute_cost(A2, Y, parameters):\n",
    "    \"\"\"\n",
    "    :param A2: The output of the second activation\n",
    "    :param Y: the labels of examples\n",
    "    :param parameters: python dictionary containing your parameters W1, b1, W2 and b2\n",
    "    :return: cost -- cross-entropy cost\n",
    "    \"\"\"\n",
    "    m = Y.shape[1]  #样本数量\n",
    "\n",
    "    #计算交叉熵损失\n",
    "    ### START CODE HERE ###\n",
    "    \n",
    "    L = -sum(Y * np.log(A2))\n",
    "    cost = 1 / m * np.sum(L)\n",
    "    \n",
    "    ### END CODE HERE ###\n",
    "\n",
    "    cost = np.squeeze(cost)  # makes sure cost is the dimension we expect.\n",
    "    return cost\n",
    "\n",
    "#测试一下\n",
    "cost = compute_cost(A2, Y_train, parameters)\n",
    "print(cost)"
   ]
  },
  {
   "cell_type": "markdown",
   "metadata": {},
   "source": [
    "预期输出：  \n",
    "2.2833212768987203"
   ]
  },
  {
   "cell_type": "markdown",
   "metadata": {},
   "source": [
    "## 9. 反向传播\n",
    "反向传播用到的主要是链式求导法则，我们用dX表示成本函数J对于X的导数，则有：$$\\begin{align}\n",
    "& dZ^{[2]}=A^{[2]}-Y  \\\\\n",
    "& dW^{[2]}=\\frac{1}{m}dZ^{[2]}A^{[1]T} \\\\\n",
    "& db^{[2]}=\\frac{1}{m}np.sum(dZ^{[2]},axis=1, keepdims=True)\n",
    "\\end{align}$$\n",
    "至于$dW^{[1]}、db^{[1]}$则需要同学们自己求解  \n",
    "**Hint**：你可能需要用到np.dot()、np.sum()、np.multiply()、np.power()  \n",
    "**任务4**：完成反向传播函数"
   ]
  },
  {
   "cell_type": "code",
   "execution_count": 9,
   "metadata": {},
   "outputs": [
    {
     "name": "stdout",
     "output_type": "stream",
     "text": [
      "[[ 0.00646074]\n",
      " [ 0.03969   ]\n",
      " [ 0.00686159]\n",
      " [-0.04355089]\n",
      " [ 0.00083362]\n",
      " [-0.02613417]\n",
      " [-0.00199722]\n",
      " [ 0.02718112]\n",
      " [-0.01503883]\n",
      " [ 0.00569405]]\n"
     ]
    }
   ],
   "source": [
    "#反向传播\n",
    "def backward_propagation(parameters, cache, X, Y):\n",
    "    \"\"\"\n",
    "    :param parameters: python dictionary containing our parameters\n",
    "    :param cache: a dictionary containing \"Z1\", \"A1\", \"Z2\" and \"A2\".\n",
    "    :param X: input data\n",
    "    :param Y: the labels of X\n",
    "    :return: grads -- python dictionary containing your gradients with respect to different parameters\n",
    "    \"\"\"\n",
    "    m = X.shape[1]\n",
    "\n",
    "    # First, retrieve W1 and W2 from the dictionary \"parameters\".\n",
    "    W1 = parameters['W1']\n",
    "    W2 = parameters['W2']\n",
    "\n",
    "    # Retrieve also A1 and A2 from dictionary \"cache\".\n",
    "    A1 = cache['A1']\n",
    "    A2 = cache['A2']\n",
    "\n",
    "    # Backward propagation: calculate dW1, db1, dW2, db2.\n",
    "    ### START CODE HERE ###\n",
    "    \n",
    "    '''\n",
    "    FIXME:\n",
    "    This is a hack solution.\n",
    "    '''\n",
    "    \n",
    "    dZ2 = A2 - Y\n",
    "    dW2 = 1 / m * np.dot(dZ2, A1.T)\n",
    "    db2 = 1 / m * np.sum(dZ2, axis = 1, keepdims = True)\n",
    "    dZ1 = np.dot(W2.T, dZ2) * (1 - np.power(A1,2))\n",
    "    dW1 = 1 / m * np.dot(dZ1, X.T)\n",
    "    db1 = 1 / m * np.sum(dZ1, axis = 1, keepdims = True)\n",
    "    \n",
    "    ### END CODE HERE ###\n",
    "\n",
    "    grads = {\"dW1\": dW1,\n",
    "             \"db1\": db1,\n",
    "             \"dW2\": dW2,\n",
    "             \"db2\": db2}\n",
    "\n",
    "    return grads\n",
    "\n",
    "#测试一下\n",
    "grads = backward_propagation(parameters, cache, X_train, Y_train)\n",
    "print(grads['dW2'][:, 0:1])"
   ]
  },
  {
   "cell_type": "markdown",
   "metadata": {},
   "source": [
    "预期输出：  \n",
    "[[ 0.00646074]\n",
    " [ 0.03969   ]\n",
    " [ 0.00686159]\n",
    " [-0.04355089]\n",
    " [ 0.00083362]\n",
    " [-0.02613417]\n",
    " [-0.00199722]\n",
    " [ 0.02718112]\n",
    " [-0.01503883]\n",
    " [ 0.00569405]]"
   ]
  },
  {
   "cell_type": "markdown",
   "metadata": {},
   "source": [
    "## 10. 参数更新\n",
    "参数更新按照下列公式计算：$$\\begin{align} & W=W-\\alpha dW \\\\ & b=b-\\alpha db\\end{align}$$  \n",
    "**任务5**：对参数进行更新"
   ]
  },
  {
   "cell_type": "code",
   "execution_count": 10,
   "metadata": {},
   "outputs": [
    {
     "name": "stdout",
     "output_type": "stream",
     "text": [
      "Before update parameters, b2= [[0.]\n",
      " [0.]\n",
      " [0.]\n",
      " [0.]\n",
      " [0.]\n",
      " [0.]\n",
      " [0.]\n",
      " [0.]\n",
      " [0.]\n",
      " [0.]]\n",
      "After update parameters, b2= [[-9.58018744e-04]\n",
      " [ 2.55488008e-03]\n",
      " [-9.39681160e-04]\n",
      " [-7.82412615e-05]\n",
      " [ 1.24448550e-03]\n",
      " [ 4.70344732e-04]\n",
      " [-7.22001107e-04]\n",
      " [ 1.53863744e-03]\n",
      " [-2.65424975e-03]\n",
      " [-4.56155725e-04]]\n"
     ]
    }
   ],
   "source": [
    "#参数更新\n",
    "def update_parameters(parameters, grads, learning_rate=0.1):\n",
    "    \"\"\"\n",
    "    :param parameters: python dictionary containing your parameters\n",
    "    :param grads: python dictionary containing your gradients\n",
    "    :param learning_rate: learning rate\n",
    "    :return: parameters -- python dictionary containing your updated parameters\n",
    "    \"\"\"\n",
    "    # Retrieve each parameter from the dictionary \"parameters\"\n",
    "    W1 = parameters['W1']\n",
    "    b1 = parameters['b1']\n",
    "    W2 = parameters['W2']\n",
    "    b2 = parameters['b2']\n",
    "\n",
    "    # Retrieve each gradient from the dictionary \"grads\"\n",
    "    dW1 = grads['dW1']\n",
    "    db1 = grads['db1']\n",
    "    dW2 = grads['dW2']\n",
    "    db2 = grads['db2']\n",
    "\n",
    "    # Update rule for each parameter\n",
    "    ### START CODE HERE ###\n",
    "    \n",
    "    W1 = W1 - learning_rate * dW1\n",
    "    b1 = b1 - learning_rate * db1\n",
    "    W2 = W2 - learning_rate * dW2\n",
    "    b2 = b2 - learning_rate * db2\n",
    "    \n",
    "    ### END CODE HERE ###\n",
    "\n",
    "    parameters = {\"W1\": W1,\n",
    "                  \"b1\": b1,\n",
    "                  \"W2\": W2,\n",
    "                  \"b2\": b2}\n",
    "\n",
    "    return parameters\n",
    "\n",
    "#测试一下\n",
    "print('Before update parameters, b2=', parameters['b2'])\n",
    "parameters = update_parameters(parameters, grads)\n",
    "print('After update parameters, b2=', parameters['b2'])"
   ]
  },
  {
   "cell_type": "markdown",
   "metadata": {},
   "source": [
    "预期输出：  \n",
    "Before update parameters, b2=  \n",
    "[[0.]\n",
    " [0.]\n",
    " [0.]\n",
    " [0.]\n",
    " [0.]\n",
    " [0.]\n",
    " [0.]\n",
    " [0.]\n",
    " [0.]\n",
    " [0.]]  \n",
    "After update parameters, b2=  \n",
    "[[-9.58018744e-04]\n",
    " [ 2.55488008e-03]\n",
    " [-9.39681160e-04]\n",
    " [-7.82412615e-05]\n",
    " [ 1.24448550e-03]\n",
    " [ 4.70344732e-04]\n",
    " [-7.22001107e-04]\n",
    " [ 1.53863744e-03]\n",
    " [-2.65424975e-03]\n",
    " [-4.56155725e-04]]"
   ]
  },
  {
   "cell_type": "markdown",
   "metadata": {},
   "source": [
    "## 11. Mini-Batch梯度下降\n",
    "我们之前学过的梯度下降法称为batch梯度下降法，在batch梯度下降法的一次迭代过程中，我们必须遍历整个训练数据集然后才能进行一次梯度下降，当数据集比较大的时候，这个过程会比较慢。为了加快梯度下降的速度，我们将数据集分块，每遍历一个数据块，都进行一次梯度下降，遍历完一次整个数据集称为一代(epoch).  \n",
    "在此次实验中，我们将batch的大小设为64，下列代码直接运行即可。函数返回的mini_batches是一个列表，列表的元素是一小块一小块的X、Y组成的数据块，除了最后一个batch，前面每个batch都包含64个样本。"
   ]
  },
  {
   "cell_type": "code",
   "execution_count": 11,
   "metadata": {},
   "outputs": [],
   "source": [
    "#从训练集中随机生成mini-batch列表\n",
    "def random_mini_batches(X, Y, mini_batch_size=64, seed=0):\n",
    "    \"\"\"\n",
    "    :param X: input data\n",
    "    :param Y: the labels of X\n",
    "    :param mini_batch_size: size of the mini-batches, integer\n",
    "    :param seed: seed\n",
    "    :return: mini_batches -- list of synchronous (mini_batch_X, mini_batch_Y)\n",
    "    \"\"\"\n",
    "    np.random.seed(seed)  #设置随机种子\n",
    "    m = X.shape[1]  #训练样本数量\n",
    "    mini_batches = []\n",
    "\n",
    "    # Step 1: Shuffle (X, Y)\n",
    "    permutation = list(np.random.permutation(m))\n",
    "    shuffled_X = X[:, permutation]\n",
    "    shuffled_Y = Y[:, permutation]\n",
    "\n",
    "    # Step 2: Partition (shuffled_X, shuffled_Y). Minus the end case.\n",
    "    num_complete_minibatches = math.floor(m / mini_batch_size)  # number of mini batches of size mini_batch_size in your partitionning\n",
    "    for k in range(0, num_complete_minibatches):\n",
    "\n",
    "        mini_batch_X = shuffled_X[:, k * mini_batch_size:(k + 1) * mini_batch_size]\n",
    "        mini_batch_Y = shuffled_Y[:, k * mini_batch_size:(k + 1) * mini_batch_size]\n",
    "\n",
    "        mini_batch = (mini_batch_X, mini_batch_Y)\n",
    "        mini_batches.append(mini_batch)\n",
    "\n",
    "    # Handling the end case (last mini-batch < mini_batch_size)\n",
    "    if m % mini_batch_size != 0:\n",
    "\n",
    "        mini_batch_X = shuffled_X[:, -(m - mini_batch_size * num_complete_minibatches):]\n",
    "        mini_batch_Y = shuffled_Y[:, -(m - mini_batch_size * num_complete_minibatches):]\n",
    "\n",
    "        mini_batch = (mini_batch_X, mini_batch_Y)\n",
    "        mini_batches.append(mini_batch)\n",
    "\n",
    "    return mini_batches"
   ]
  },
  {
   "cell_type": "markdown",
   "metadata": {},
   "source": [
    "## 12. 定义整个模型\n",
    "我们将前面的内容整合起来训练我们的手写数字识别模型。由于后面需要使用多种优化算法来对模型进行优化，所以，在我们的模型函数中加入了参数optimization指定优化算法，默认为mini-batch梯度下降算法，另外，在训练过程中，我们记录下成本函数$J$的值便于分析我们的模型。  \n",
    "**任务6**：整合前面的内容定义模型函数"
   ]
  },
  {
   "cell_type": "code",
   "execution_count": 12,
   "metadata": {},
   "outputs": [
    {
     "name": "stdout",
     "output_type": "stream",
     "text": [
      "Cost after iteration 0: 2.141529\n",
      "Cost after iteration 100: 0.288241\n",
      "Cost after iteration 200: 0.095802\n",
      "Cost after iteration 300: 0.112209\n",
      "Cost after iteration 400: 0.044699\n",
      "Cost after iteration 500: 0.089624\n",
      "Cost after iteration 600: 0.093516\n",
      "Cost after iteration 700: 0.038168\n",
      "Cost after iteration 800: 0.046603\n",
      "Cost after iteration 900: 0.036611\n"
     ]
    },
    {
     "data": {
      "image/png": "[encoded data removed]",
      "text/plain": [
       "<Figure size 432x288 with 1 Axes>"
      ]
     },
     "metadata": {
      "needs_background": "light"
     },
     "output_type": "display_data"
    },
    {
     "name": "stdout",
     "output_type": "stream",
     "text": [
      "The accuracy of the model on test set is: 0.87\n"
     ]
    }
   ],
   "source": [
    "#定义整个模型\n",
    "def nn_model(X, Y, n_h, num_iterations=1000, learning_rate=0.0008, mini_batch_size = 64, \n",
    "             beta1 = 0.9, beta2 = 0.999,  epsilon = 1e-8, optimization='GD'):\n",
    "    \"\"\"\n",
    "    :param X: input data\n",
    "    :param Y: the labels of X\n",
    "    :param n_h: size of the hidden layer\n",
    "    :param num_iterations: Number of iterations in gradient descent loop\n",
    "    :param learning_rate: learning rate\n",
    "    :param mini_batch_size: size of the mini-batches, integer\n",
    "    :param beta1: parameter of momentum and adam\n",
    "    :param beta2: parameter of rmsprop and adam\n",
    "    :param epsilon: small constant\n",
    "    :param optimization: choose optimization\n",
    "    :return: parameters -- parameters learnt by the model. They can then be used to predict.\n",
    "    \"\"\"\n",
    "    n_x = X.shape[0]\n",
    "    n_y = 10\n",
    "    J_history = []\n",
    "    cost = 0\n",
    "    seed = 1\n",
    "    t = 0\n",
    "\n",
    "    # Initialize parameters, then retrieve W1, b1, W2, b2. Inputs: \"n_x, n_h, n_y\". Outputs = \"W1, b1, W2, b2, parameters\".\n",
    "    ### START CODE HERE ###\n",
    "    \n",
    "    parameters = initialize_parameters(n_x, n_h, n_y)\n",
    "    W1 = parameters['W1']\n",
    "    b1 = parameters['b1']\n",
    "    W2 = parameters['W2']\n",
    "    b2 = parameters['b2']\n",
    "    \n",
    "    ### END CODE HERE ###\n",
    "\n",
    "    # Loop (gradient descent)\n",
    "    for i in range(0, num_iterations):\n",
    "        \n",
    "        seed = seed + 1\n",
    "        minibatches = random_mini_batches(X, Y, mini_batch_size, seed)\n",
    "        for minibatch in minibatches:\n",
    "            \n",
    "            (minibatch_X, minibatch_Y) = minibatch\n",
    "            \n",
    "            ### START CODE HERE ###\n",
    "            \n",
    "            # Forward propagation. Inputs: \"X, parameters\". Outputs: \"A2, cache\".\n",
    "            A2, cache = forward_propagation(minibatch_X, parameters)\n",
    "\n",
    "            # Cost function. Inputs: \"A2, Y, parameters\". Outputs: \"cost\".\n",
    "            cost = compute_cost(A2, minibatch_Y, parameters)\n",
    "\n",
    "            # Backpropagation. Inputs: \"parameters, cache, X, Y\". Outputs: \"grads\".\n",
    "            grads = backward_propagation(parameters, cache, minibatch_X, minibatch_Y)\n",
    "\n",
    "            # Gradient descent parameter update. Inputs: \"parameters, grads\". Outputs: \"parameters\".\n",
    "            #没有使用任何优化\n",
    "            if optimization == 'GD':\n",
    "                parameters = update_parameters(parameters, grads, learning_rate)\n",
    "                \n",
    "            ### END CODE HERE ###\n",
    "            \n",
    "            #使用Momentum进行优化\n",
    "            elif optimization == 'Momentum':\n",
    "                v = initialize_velocity(parameters)\n",
    "                parameters = update_parameters_with_momentum(parameters, grads, v, beta1, learning_rate)\n",
    "            #使用RMSprop进行优化\n",
    "            elif optimization == 'RMSprop':\n",
    "                s = initialize_rmsprop(parameters)\n",
    "                parameters = update_parameters_with_rmsprop(parameters, grads, s, beta2, learning_rate, epsilon)\n",
    "            #使用Adam进行优化\n",
    "            elif optimization == 'Adam':\n",
    "                t = t + 1\n",
    "                v, s = initialize_adam(parameters)\n",
    "                parameters = update_parameters_with_adam(parameters, grads, v, s, t, beta1, beta2, learning_rate, epsilon)\n",
    "\n",
    "        # Print the cost every 1000 iterations\n",
    "        if i % 10 == 0:\n",
    "            J_history.append(cost)\n",
    "        if i % 100 == 0:\n",
    "            print(\"Cost after iteration %i: %f\" % (i, cost))\n",
    "\n",
    "    plt.plot(J_history)\n",
    "    plt.ylabel('cost')\n",
    "    plt.xlabel('epochs (per 100)')\n",
    "    plt.title(\"Learning rate = \" + str(learning_rate))\n",
    "    plt.show()\n",
    "\n",
    "    return J_history, parameters\n",
    "\n",
    "#接下来，我们开始训练我们的模型，并计算测试集的精度值。\n",
    "def predict(X, parameters):\n",
    "    \"\"\"\n",
    "    :param X: input data of size (n_x, m)\n",
    "    :param parameters: python dictionary containing your parameters\n",
    "    :return: predictions -- vector of predictions of our model\n",
    "    \"\"\"\n",
    "    # Computes probabilities using forward propagation, and classifies to 0/1 using 0.5 as the threshold.\n",
    "    A2, cache = forward_propagation(X, parameters)\n",
    "    predictions = np.argmax(A2, axis=0)\n",
    "\n",
    "    return predictions\n",
    "\n",
    "#开始训练模型并计算精度\n",
    "J_history, parameters = nn_model(X_train, Y_train, n_h)\n",
    "predictions = predict(X_test, parameters)\n",
    "p = np.where(predictions == Y_test.flatten())\n",
    "accuracy = len(p[0]) / Y_test.shape[1]\n",
    "print('The accuracy of the model on test set is:', accuracy)"
   ]
  },
  {
   "cell_type": "markdown",
   "metadata": {},
   "source": [
    "预期输出：  \n",
    "Cost after iteration 0: 2.141529  \n",
    "Cost after iteration 100: 0.288241  \n",
    "Cost after iteration 200: 0.095802  \n",
    "Cost after iteration 300: 0.112209  \n",
    "Cost after iteration 400: 0.044699  \n",
    "Cost after iteration 500: 0.089624  \n",
    "Cost after iteration 600: 0.093516  \n",
    "Cost after iteration 700: 0.038168  \n",
    "Cost after iteration 800: 0.046603  \n",
    "Cost after iteration 900: 0.036611  \n",
    "The accuracy of the model on test set is: 0.87"
   ]
  },
  {
   "cell_type": "markdown",
   "metadata": {},
   "source": [
    "上面，我们已经训练了一个标准的神经网络，接下来，我们将使用Momentum、RMSProp、Adam这三个算法来进行优化。  \n",
    "## 二、Momentum梯度下降算法\n",
    "动量梯度下降（Gradient Descent with Momentum）运行速度几乎总是快于标准的梯度下降算法，基本思想就是计算梯度的指数加权平均数，并利用该指数加权平均数更新你的权重。具体过程为：  $$\\begin{equation} \\begin{aligned} & v_{dw}=0,v_{db}=0 \\\\ & On\\ iteration\\ t:  \\\\ &\\quad compute\\ dW,db\\ on\\ current\\ batch \\\\ & \\quad v_{dW}=\\beta v_{dW}+(1-\\beta)dW \\\\ & \\quad v_{db}=\\beta v_{db}+(1-\\beta)db\\\\ & \\quad W=W-\\alpha v_{dw}\\\\ & \\quad b=b-\\alpha v_{db} \\end{aligned} \\end{equation}$$  \n",
    "其中，$\\beta$称为动量衰减参数，一般设为0.9.  \n",
    "首先，我们先来初始化动量$v_{dW},v_{db}$  \n",
    "**任务7**：初始化动量"
   ]
  },
  {
   "cell_type": "code",
   "execution_count": 13,
   "metadata": {},
   "outputs": [
    {
     "name": "stdout",
     "output_type": "stream",
     "text": [
      "[[0.]\n",
      " [0.]\n",
      " [0.]\n",
      " [0.]\n",
      " [0.]\n",
      " [0.]\n",
      " [0.]\n",
      " [0.]\n",
      " [0.]\n",
      " [0.]]\n"
     ]
    }
   ],
   "source": [
    "#初始化动量\n",
    "def initialize_velocity(parameters):\n",
    "    \"\"\"\n",
    "    Initializes the velocity as a python dictionary with:\n",
    "                - keys: \"dW1\", \"db1\", ..., \"dWL\", \"dbL\" \n",
    "                - values: numpy arrays of zeros of the same shape as the corresponding gradients/parameters.\n",
    "    :param parameters: python dictionary containing your parameters.\n",
    "                    parameters['W' + str(l)] = Wl\n",
    "                    parameters['b' + str(l)] = bl\n",
    "    :return: v -- python dictionary containing the current velocity.\n",
    "                    v['dW' + str(l)] = velocity of dWl\n",
    "                    v['db' + str(l)] = velocity of dbl\n",
    "    \"\"\"\n",
    "    L = len(parameters) // 2 #神经网络的层数\n",
    "    v = {}\n",
    "    \n",
    "    # Initialize velocity\n",
    "    for l in range(L):\n",
    "        ### START CODE HERE ###\n",
    "        \n",
    "        v[\"dW\" + str(l+1)] = np.zeros(parameters[\"W\" + str(l+1)].shape)\n",
    "        v[\"db\" + str(l+1)] = np.zeros(parameters[\"b\" + str(l+1)].shape)\n",
    "        \n",
    "        ### END CODE HERE ###\n",
    "        \n",
    "    return v\n",
    "\n",
    "#测试一下\n",
    "v = initialize_velocity(parameters)\n",
    "print(v['db2'])"
   ]
  },
  {
   "cell_type": "markdown",
   "metadata": {},
   "source": [
    "预期输出：  \n",
    "[[0.]\n",
    " [0.]\n",
    " [0.]\n",
    " [0.]\n",
    " [0.]\n",
    " [0.]\n",
    " [0.]\n",
    " [0.]\n",
    " [0.]\n",
    " [0.]]"
   ]
  },
  {
   "cell_type": "markdown",
   "metadata": {},
   "source": [
    "接下来，我们使用Momentum更新我们的参数。  \n",
    "**任务8**：使用Momentum更新参数"
   ]
  },
  {
   "cell_type": "code",
   "execution_count": 14,
   "metadata": {},
   "outputs": [
    {
     "name": "stdout",
     "output_type": "stream",
     "text": [
      "Cost after iteration 0: 2.209383\n",
      "Cost after iteration 100: 1.564932\n",
      "Cost after iteration 200: 1.066574\n",
      "Cost after iteration 300: 1.000654\n",
      "Cost after iteration 400: 0.577861\n",
      "Cost after iteration 500: 0.588602\n",
      "Cost after iteration 600: 0.564078\n",
      "Cost after iteration 700: 0.452229\n",
      "Cost after iteration 800: 0.417822\n",
      "Cost after iteration 900: 0.321495\n"
     ]
    },
    {
     "data": {
      "image/png": "[encoded data removed]",
      "text/plain": [
       "<Figure size 432x288 with 1 Axes>"
      ]
     },
     "metadata": {
      "needs_background": "light"
     },
     "output_type": "display_data"
    },
    {
     "name": "stdout",
     "output_type": "stream",
     "text": [
      "The accuracy of the model on test set is: 0.81\n"
     ]
    }
   ],
   "source": [
    "#使用Momentum更新参数\n",
    "def update_parameters_with_momentum(parameters, grads, v, beta=0.9, learning_rate=0.01):\n",
    "    \"\"\"\n",
    "    :param parameters: python dictionary containing your parameters:\n",
    "                    parameters['W' + str(l)] = Wl\n",
    "                    parameters['b' + str(l)] = bl\n",
    "    :param grads: python dictionary containing your gradients for each parameters:\n",
    "                    grads['dW' + str(l)] = dWl\n",
    "                    grads['db' + str(l)] = dbl\n",
    "    :param v: python dictionary containing the current velocity:\n",
    "                    v['dW' + str(l)] = ...\n",
    "                    v['db' + str(l)] = ...\n",
    "    :param beta: the momentum hyperparameter, scalar\n",
    "    :param learning_rate: the learning rate, scalar\n",
    "    :return: parameters -- python dictionary containing your updated parameters \n",
    "    \"\"\"\n",
    "    L = len(parameters) // 2 # 神经网络的层数\n",
    "    \n",
    "    # Momentum update for each parameter\n",
    "    for l in range(L):\n",
    "        ### START CODE HERE ### \n",
    "        \n",
    "        #计算动量\n",
    "        v[\"dW\" + str(l+1)] = beta * v[\"dW\" + str(l+1)] + (1 - beta) * grads[\"dW\" + str(l+1)]\n",
    "        v[\"db\" + str(l+1)] = beta * v[\"db\" + str(l+1)] + (1 - beta) * grads[\"db\" + str(l+1)]\n",
    "        #更新参数\n",
    "        parameters[\"W\" + str(l+1)] -= learning_rate * v[\"dW\" + str(l+1)]\n",
    "        parameters[\"b\" + str(l+1)] -= learning_rate * v[\"db\" + str(l+1)]\n",
    "        \n",
    "        ### END CODE HERE ###\n",
    "        \n",
    "    return parameters\n",
    "\n",
    "#然后，我们使用Momentum训练新的模型。\n",
    "#开始训练模型并计算精度\n",
    "J_history, parameters = nn_model(X_train, Y_train, n_h, optimization='Momentum')\n",
    "predictions = predict(X_test, parameters)\n",
    "p = np.where(predictions == Y_test.flatten())\n",
    "accuracy = len(p[0]) / Y_test.shape[1]\n",
    "print('The accuracy of the model on test set is:', accuracy)"
   ]
  },
  {
   "cell_type": "markdown",
   "metadata": {},
   "source": [
    "预期输出： \n",
    "Cost after iteration 0: 2.209383  \n",
    "Cost after iteration 100: 1.564932  \n",
    "Cost after iteration 200: 1.066574  \n",
    "Cost after iteration 300: 1.000654  \n",
    "Cost after iteration 400: 0.577861  \n",
    "Cost after iteration 500: 0.588602  \n",
    "Cost after iteration 600: 0.564078  \n",
    "Cost after iteration 700: 0.452229  \n",
    "Cost after iteration 800: 0.417822  \n",
    "Cost after iteration 900: 0.321495  \n",
    "The accuracy of the model on test set is: 0.81"
   ]
  },
  {
   "cell_type": "markdown",
   "metadata": {},
   "source": [
    "## 三、RMSProp优化算法\n",
    "RMSprop（root mean square prop）算法是在计算梯度的指数加权平均数的基础上，加入了平方根，具体过程如下：$$\\begin{equation} \\begin{aligned} & s_{dW}=0,s_{db}=0 \\\\ & On\\ iteration\\ t: \\\\ &\\quad compute\\ dW,db\\ on\\ current\\ mini-batch \\\\ & \\quad s_{dW}=\\beta s_{dW}+(1-\\beta)dW^2 \\\\ & \\quad s_{db}=\\beta s_{db}+(1-\\beta)db^2\\\\ & \\quad W=W-\\alpha \\frac{dW}{\\sqrt{s_{dW}}+\\varepsilon}\\\\ & \\quad b=b-\\alpha \\frac{db}{\\sqrt{s_{db}}+\\varepsilon} \\end{aligned} \\end{equation}$$  \n",
    "其中，$\\varepsilon$是一个非常小的量，一般为$10^{-8}$，为了防止分母太小而导致的数值不稳定。注意，这里的$\\beta$和Momentum梯度下降中的$\\beta$不同，一般设为0.999.  \n",
    "和之前一样，我们先初始化$s_{dW},s_{db}$.  \n",
    "**任务9**：初始化RMSprop参数"
   ]
  },
  {
   "cell_type": "code",
   "execution_count": 15,
   "metadata": {},
   "outputs": [
    {
     "name": "stdout",
     "output_type": "stream",
     "text": [
      "[[0.]\n",
      " [0.]\n",
      " [0.]\n",
      " [0.]\n",
      " [0.]\n",
      " [0.]\n",
      " [0.]\n",
      " [0.]\n",
      " [0.]\n",
      " [0.]]\n"
     ]
    }
   ],
   "source": [
    "#初始化s\n",
    "def initialize_rmsprop(parameters) :\n",
    "    \"\"\"\n",
    "    Initializes s as two python dictionaries with:\n",
    "            - keys: \"dW1\", \"db1\", ..., \"dWL\", \"dbL\" \n",
    "            - values: numpy arrays of zeros of the same shape as the corresponding gradients/parameters.\n",
    "    :param parameters: python dictionary containing your parameters.\n",
    "                    parameters[\"W\" + str(l)] = Wl\n",
    "                    parameters[\"b\" + str(l)] = bl\n",
    "    :return: s -- python dictionary that will contain the exponentially weighted average of the squared gradient.\n",
    "                    s[\"dW\" + str(l)] = ...\n",
    "                    s[\"db\" + str(l)] = ...\n",
    "    \"\"\"  \n",
    "    L = len(parameters) // 2 #神经网络的层数\n",
    "    s = {}\n",
    "    \n",
    "    # Initialize v, s. Input: \"parameters\". Outputs: \"v, s\".\n",
    "    for l in range(L):\n",
    "    ### START CODE HERE ###\n",
    "    \n",
    "        s[\"dW\" + str(l+1)] = np.zeros(parameters[\"W\" + str(l+1)].shape)\n",
    "        s[\"db\" + str(l+1)] = np.zeros(parameters[\"b\" + str(l+1)].shape)\n",
    "        \n",
    "    ### END CODE HERE ###\n",
    "    \n",
    "    return s\n",
    "\n",
    "#测试一下\n",
    "s = initialize_rmsprop(parameters)\n",
    "print(s['db2'])"
   ]
  },
  {
   "cell_type": "markdown",
   "metadata": {},
   "source": [
    "预期输出：  \n",
    "[[0.]\n",
    " [0.]\n",
    " [0.]\n",
    " [0.]\n",
    " [0.]\n",
    " [0.]\n",
    " [0.]\n",
    " [0.]\n",
    " [0.]\n",
    " [0.]]"
   ]
  },
  {
   "cell_type": "markdown",
   "metadata": {},
   "source": [
    "接下来，我们使用RMSprop更新我们的参数。  \n",
    "**任务10**：使用RMSpop更新参数"
   ]
  },
  {
   "cell_type": "code",
   "execution_count": 16,
   "metadata": {},
   "outputs": [
    {
     "name": "stdout",
     "output_type": "stream",
     "text": [
      "Cost after iteration 0: 7.692529\n",
      "Cost after iteration 100: 0.614356\n",
      "Cost after iteration 200: 0.285009\n",
      "Cost after iteration 300: 0.645942\n",
      "Cost after iteration 400: 0.824503\n",
      "Cost after iteration 500: 0.800482\n",
      "Cost after iteration 600: 0.118748\n",
      "Cost after iteration 700: 0.385290\n",
      "Cost after iteration 800: 0.617233\n",
      "Cost after iteration 900: 0.224656\n"
     ]
    },
    {
     "data": {
      "image/png": "[encoded data removed]",
      "text/plain": [
       "<Figure size 432x288 with 1 Axes>"
      ]
     },
     "metadata": {
      "needs_background": "light"
     },
     "output_type": "display_data"
    },
    {
     "name": "stdout",
     "output_type": "stream",
     "text": [
      "The accuracy of the model on test set is: 0.77\n"
     ]
    }
   ],
   "source": [
    "#使用RMSprop更新参数\n",
    "def update_parameters_with_rmsprop(parameters, grads, s, beta = 0.999, learning_rate = 0.001, epsilon = 1e-8):\n",
    "    \"\"\"\n",
    "    :param parameters:  python dictionary containing your parameters:\n",
    "                    parameters['W' + str(l)] = Wl\n",
    "                    parameters['b' + str(l)] = bl\n",
    "    :param grads: python dictionary containing your gradients for each parameters:\n",
    "                    grads['dW' + str(l)] = dWl\n",
    "                    grads['db' + str(l)] = dbl\n",
    "    :param s:  RMSprop variable, moving average of the squared gradient, python dictionary\n",
    "    :param beta:  Exponential decay hyperparameter for the second moment estimates \n",
    "    :param learning_rate: the learning rate, scalar.\n",
    "    :param epsilon: hyperparameter preventing division by zero in updates\n",
    "    :return:  parameters -- python dictionary containing your updated parameters \n",
    "    \"\"\"\n",
    "    L = len(parameters) // 2                 #神经网络的层数\n",
    "    \n",
    "    # Perform RMSprop update on all parameters\n",
    "    for l in range(L):\n",
    "        ### START CODE HERE ###\n",
    "        \n",
    "        s[\"dW\" + str(l+1)] = beta * s[\"dW\" + str(l+1)] + (1 - beta) * np.square(grads[\"dW\" + str(l+1)])\n",
    "        s[\"db\" + str(l+1)] = beta * s[\"db\" + str(l+1)] + (1 - beta) * np.square(grads[\"db\" + str(l+1)])\n",
    "\n",
    "        # Update parameters.\n",
    "        parameters[\"W\" + str(l+1)] -= learning_rate * grads[\"dW\" + str(l+1)] / (np.sqrt(s[\"dW\" + str(l+1)]) + epsilon)\n",
    "        parameters[\"b\" + str(l+1)] -= learning_rate * grads[\"db\" + str(l+1)] / (np.sqrt(s[\"db\" + str(l+1)]) + epsilon)\n",
    "        \n",
    "        ### END CODE HERE ###\n",
    "\n",
    "    return parameters\n",
    "\n",
    "#然后，我们使用RMSprop训练新的模型。\n",
    "#开始训练模型并计算精度\n",
    "J_history, parameters = nn_model(X_train, Y_train, n_h, optimization='RMSprop')\n",
    "predictions = predict(X_test, parameters)\n",
    "p = np.where(predictions == Y_test.flatten())\n",
    "accuracy = len(p[0]) / Y_test.shape[1]\n",
    "print('The accuracy of the model on test set is:', accuracy)"
   ]
  },
  {
   "cell_type": "markdown",
   "metadata": {},
   "source": [
    "预期输出：  \n",
    "Cost after iteration 0: 7.696636  \n",
    "Cost after iteration 100: 0.544540    \n",
    "Cost after iteration 200: 0.459126  \n",
    "Cost after iteration 300: 1.256239  \n",
    "Cost after iteration 400: 0.161524  \n",
    "Cost after iteration 500: 0.364581  \n",
    "Cost after iteration 600: 2.692355  \n",
    "Cost after iteration 700: 1.428202  \n",
    "Cost after iteration 800: 1.120152  \n",
    "Cost after iteration 900: 0.757686    \n",
    "The accuracy of the model on test set is: 0.7433333333333333"
   ]
  },
  {
   "cell_type": "markdown",
   "metadata": {},
   "source": [
    "## 四、Adam优化算法\n",
    "Adam优化算法（Adaptive Moment Estimation）是将Momentum和RMSprop结合在一起的算法，具体过程如下：$$\\begin{equation} \\begin{aligned} & v_{dW}=0,v_{db}=0,s_{dW}=0,s_{db}=0 \\\\ & On\\ iteration\\ t:\\\\ &\\quad compute\\ dW,db\\ on\\ current\\ mini-batch \\\\ & \\quad v_{dW}=\\beta_1 v_{dW}+(1-\\beta_1)dW \\\\ & \\quad v_{db}=\\beta_1 v_{db}+(1-\\beta_1)db\\\\ & \\quad s_{dW}=\\beta_2 s_{dW}+(1-\\beta_2)dW^2 \\\\ & \\quad s_{db}=\\beta_2 s_{db}+(1-\\beta_2)db^2 \\\\ & \\quad v^{corrected}_{dW}=\\frac{v_{dW}}{1-\\beta_1^t} \\\\ & \\quad v^{corrected}_{db}=\\frac{v_{db}}{1-\\beta_1^t} \\\\ & \\quad s^{corrected}_{dW}=\\frac{s_{dW}}{1-\\beta_2^t} \\\\ & \\quad s^{corrected}_{db}=\\frac{s_{db}}{1-\\beta_2^t} \\\\ & \\quad W=W-\\alpha \\frac{v^{corrected}_{dW}}{\\sqrt{s^{corrected}_{dW}}+\\varepsilon}\\\\ & \\quad b=b-\\alpha \\frac{v^{corrected}_{db}}{\\sqrt{s^{corrected}_{db}}+\\varepsilon}\\\\ \\end{aligned} \\end{equation}$$  \n",
    "其中，$\\beta_1$通常为0.9，$\\beta_2$通常为0.999，$\\varepsilon$一般为$10^{-8}$.  \n",
    "还是一样，首先初始化$v_{dW},v_{db},s_{dW},s_{db}$.  \n",
    "**任务11**：初始化Adam的参数"
   ]
  },
  {
   "cell_type": "code",
   "execution_count": 17,
   "metadata": {},
   "outputs": [
    {
     "name": "stdout",
     "output_type": "stream",
     "text": [
      "[[0.]\n",
      " [0.]\n",
      " [0.]\n",
      " [0.]\n",
      " [0.]\n",
      " [0.]\n",
      " [0.]\n",
      " [0.]\n",
      " [0.]\n",
      " [0.]]\n",
      "[[0.]\n",
      " [0.]\n",
      " [0.]\n",
      " [0.]\n",
      " [0.]\n",
      " [0.]\n",
      " [0.]\n",
      " [0.]\n",
      " [0.]\n",
      " [0.]]\n"
     ]
    }
   ],
   "source": [
    "#初始化\n",
    "def initialize_adam(parameters) :\n",
    "    \"\"\"\n",
    "    Initializes v and s as two python dictionaries with:\n",
    "            - keys: \"dW1\", \"db1\", ..., \"dWL\", \"dbL\" \n",
    "            - values: numpy arrays of zeros of the same shape as the corresponding gradients/parameters.\n",
    "    :param parameters: python dictionary containing your parameters.\n",
    "                    parameters[\"W\" + str(l)] = Wl\n",
    "                    parameters[\"b\" + str(l)] = bl\n",
    "    :return:  \n",
    "    v -- python dictionary that will contain the exponentially weighted average of the gradient.\n",
    "                    v[\"dW\" + str(l)] = ...\n",
    "                    v[\"db\" + str(l)] = ...\n",
    "    s -- python dictionary that will contain the exponentially weighted average of the squared gradient.\n",
    "                    s[\"dW\" + str(l)] = ...\n",
    "                    s[\"db\" + str(l)] = ...\n",
    "    \"\"\"\n",
    "    L = len(parameters) // 2 #神经网络的层数\n",
    "    v = {}\n",
    "    s = {}\n",
    "    \n",
    "    # Initialize v, s. Input: \"parameters\". Outputs: \"v, s\".\n",
    "    for l in range(L):\n",
    "    ### START CODE HERE ### \n",
    "    \n",
    "        v[\"dW\" + str(l+1)] = np.zeros(parameters[\"W\" + str(l+1)].shape)\n",
    "        v[\"db\" + str(l+1)] = np.zeros(parameters[\"b\" + str(l+1)].shape)\n",
    "        s[\"dW\" + str(l+1)] = np.zeros(parameters[\"W\" + str(l+1)].shape)\n",
    "        s[\"db\" + str(l+1)] = np.zeros(parameters[\"b\" + str(l+1)].shape)\n",
    "        \n",
    "    ### END CODE HERE ###\n",
    "    \n",
    "    return v, s\n",
    "\n",
    "#测试一下\n",
    "v, s = initialize_adam(parameters)\n",
    "print(v['db2'])\n",
    "print(s['db2'])"
   ]
  },
  {
   "cell_type": "markdown",
   "metadata": {},
   "source": [
    "预期输出：  \n",
    "[[0.]\n",
    " [0.]\n",
    " [0.]\n",
    " [0.]\n",
    " [0.]\n",
    " [0.]\n",
    " [0.]\n",
    " [0.]\n",
    " [0.]\n",
    " [0.]]   \n",
    "[[0.]\n",
    " [0.]\n",
    " [0.]\n",
    " [0.]\n",
    " [0.]\n",
    " [0.]\n",
    " [0.]\n",
    " [0.]\n",
    " [0.]\n",
    " [0.]]"
   ]
  },
  {
   "cell_type": "markdown",
   "metadata": {},
   "source": [
    "然后，我们使用Adam优化算法更新我们的参数。  \n",
    "**任务12**：使用Adam优化算法更新参数"
   ]
  },
  {
   "cell_type": "code",
   "execution_count": 18,
   "metadata": {},
   "outputs": [
    {
     "name": "stdout",
     "output_type": "stream",
     "text": [
      "Cost after iteration 0: 1.460826\n",
      "Cost after iteration 100: 0.000001\n",
      "Cost after iteration 200: 0.000000\n",
      "Cost after iteration 300: 0.000000\n",
      "Cost after iteration 400: 0.000000\n",
      "Cost after iteration 500: 0.000000\n",
      "Cost after iteration 600: 0.000000\n",
      "Cost after iteration 700: 0.000000\n",
      "Cost after iteration 800: 0.000000\n",
      "Cost after iteration 900: 0.000000\n"
     ]
    },
    {
     "data": {
      "image/png": "[encoded data removed]",
      "text/plain": [
       "<Figure size 432x288 with 1 Axes>"
      ]
     },
     "metadata": {
      "needs_background": "light"
     },
     "output_type": "display_data"
    },
    {
     "name": "stdout",
     "output_type": "stream",
     "text": [
      "The accuracy of the model on test set is: 0.9166666666666666\n"
     ]
    }
   ],
   "source": [
    "#使用Adam更新参数\n",
    "def update_parameters_with_adam(parameters, grads, v, s, t, beta1 = 0.9, \n",
    "                                beta2 = 0.999, learning_rate = 0.01, epsilon = 1e-8):\n",
    "    \"\"\"\n",
    "    :param parameters: python dictionary containing your parameters:\n",
    "                    parameters['W' + str(l)] = Wl\n",
    "                    parameters['b' + str(l)] = bl\n",
    "    :param grads: python dictionary containing your gradients for each parameters:\n",
    "                    grads['dW' + str(l)] = dWl\n",
    "                    grads['db' + str(l)] = dbl\n",
    "    :param v: Adam variable, moving average of the first gradient, python dictionary\n",
    "    :param s: Adam variable, moving average of the squared gradient, python dictionary\n",
    "    :param t: epoch number\n",
    "    :param beta1: Exponential decay hyperparameter for the first moment estimates \n",
    "    :param beta2: Exponential decay hyperparameter for the second moment estimates \n",
    "    :param learning_rate: the learning rate, scalar.\n",
    "    :param epsilon: hyperparameter preventing division by zero in Adam updates\n",
    "    :return: parameters -- python dictionary containing your updated parameters \n",
    "    \"\"\"\n",
    "    L = len(parameters) // 2                 # number of layers in the neural networks\n",
    "    v_corrected = {}                         # Initializing first moment estimate, python dictionary\n",
    "    s_corrected = {}                         # Initializing second moment estimate, python dictionary\n",
    "    \n",
    "    # Perform Adam update on all parameters\n",
    "    for l in range(L):\n",
    "        # Moving average of the gradients. Inputs: \"v, grads, beta1\". Output: \"v\".\n",
    "        ### START CODE HERE ###\n",
    "        \n",
    "        v[\"dW\" + str(l+1)] = beta1 * v[\"dW\" + str(l+1)] + (1 - beta1) * grads[\"dW\" + str(l+1)]\n",
    "        v[\"db\" + str(l+1)] = beta1 * v[\"db\" + str(l+1)] + (1 - beta1) * grads[\"db\" + str(l+1)]\n",
    "\n",
    "        # Compute bias-corrected first moment estimate. Inputs: \"v, beta1, t\". Output: \"v_corrected\".\n",
    "        v_corrected[\"dW\" + str(l+1)] = v[\"dW\" + str(l+1)] / (1 - beta1 ** t)\n",
    "        v_corrected[\"db\" + str(l+1)] = v[\"db\" + str(l+1)] / (1 - beta1 ** t)\n",
    "        \n",
    "        # Moving average of the squared gradients. Inputs: \"s, grads, beta2\". Output: \"s\".\n",
    "        s[\"dW\" + str(l+1)] = beta2 * s[\"dW\" + str(l+1)] + (1 - beta2) * grads[\"dW\" + str(l+1)] ** 2\n",
    "        s[\"db\" + str(l+1)] = beta2 * s[\"db\" + str(l+1)] + (1 - beta2) * grads[\"db\" + str(l+1)] ** 2\n",
    "\n",
    "        # Compute bias-corrected second raw moment estimate. Inputs: \"s, beta2, t\". Output: \"s_corrected\".\n",
    "        s_corrected[\"dW\" + str(l+1)] = s[\"dW\" + str(l+1)] / (1 - beta2 ** t)\n",
    "        s_corrected[\"db\" + str(l+1)] = s[\"db\" + str(l+1)] / (1 - beta2 ** t)\n",
    "\n",
    "        # Update parameters. Inputs: \"parameters, learning_rate, v_corrected, s_corrected, epsilon\". Output: \"parameters\".\n",
    "        parameters[\"W\" + str(l+1)] -= learning_rate * v_corrected[\"dW\" + str(l+1)] / (np.sqrt(s_corrected[\"dW\" + str(l+1)]) + epsilon)\n",
    "        parameters[\"b\" + str(l+1)] -= learning_rate * v_corrected[\"db\" + str(l+1)] / (np.sqrt(s_corrected[\"db\" + str(l+1)]) + epsilon)\n",
    "        ### END CODE HERE ###\n",
    "\n",
    "    return parameters\n",
    "\n",
    "#然后，我们使用Adam优化算法训练新的模型。\n",
    "#开始训练模型并计算精度\n",
    "J_history, parameters = nn_model(X_train, Y_train, n_h, optimization='Adam')\n",
    "predictions = predict(X_test, parameters)\n",
    "p = np.where(predictions == Y_test.flatten())\n",
    "accuracy = len(p[0]) / Y_test.shape[1]\n",
    "print('The accuracy of the model on test set is:', accuracy)"
   ]
  },
  {
   "cell_type": "markdown",
   "metadata": {},
   "source": [
    "预期输出：  \n",
    "Cost after iteration 0: 1.460826  \n",
    "Cost after iteration 100: 0.000000  \n",
    "Cost after iteration 200: 0.000000   \n",
    "Cost after iteration 300: 0.000000  \n",
    "Cost after iteration 400: 0.000000  \n",
    "Cost after iteration 500: 0.000000  \n",
    "Cost after iteration 600: 0.000000  \n",
    "Cost after iteration 700: 0.000000  \n",
    "Cost after iteration 800: 0.000000  \n",
    "Cost after iteration 900: 0.000000   \n",
    "The accuracy of the model on test set is: 0.9233333333333333"
   ]
  },
  {
   "cell_type": "markdown",
   "metadata": {},
   "source": [
    "## 总结  \n",
    "恭喜你已经完成了实验四，尝试着去总结一下这几种优化算法之间的差异吧！"
   ]
  },
  {
   "cell_type": "code",
   "execution_count": null,
   "metadata": {},
   "outputs": [],
   "source": []
  }
 ],
 "metadata": {
  "kernelspec": {
   "display_name": "Python 3",
   "language": "python",
   "name": "python3"
  },
  "language_info": {
   "codemirror_mode": {
    "name": "ipython",
    "version": 3
   },
   "file_extension": ".py",
   "mimetype": "text/x-python",
   "name": "python",
   "nbconvert_exporter": "python",
   "pygments_lexer": "ipython3",
   "version": "3.6.6"
  }
 },
 "nbformat": 4,
 "nbformat_minor": 2
}
